{
 "cells": [
  {
   "cell_type": "markdown",
   "metadata": {},
   "source": [
    "# Buyer-Intent Optimal Questionnaire For Modeling Part and Performance Results\n",
    "### The folwoing picture shows the methodology that I used to find the optimal one\n",
    "---\n",
    "![title](img/optimal_labeling_selection.jpg)"
   ]
  },
  {
   "cell_type": "code",
   "execution_count": 45,
   "metadata": {},
   "outputs": [],
   "source": [
    "import ml_sagemaker_helper as sm_helper\n",
    "import pandas as pd\n",
    "import matplotlib.pyplot as plt\n",
    "plt.style.use('ggplot')"
   ]
  },
  {
   "cell_type": "markdown",
   "metadata": {},
   "source": [
    "## Clean up locations for Sagemaker\n",
    "#### This is needed to make sure the folders related to train and test data are clean for model training for each 3 labels"
   ]
  },
  {
   "cell_type": "code",
   "execution_count": 2,
   "metadata": {},
   "outputs": [
    {
     "data": {
      "text/plain": [
       "True"
      ]
     },
     "execution_count": 2,
     "metadata": {},
     "output_type": "execute_result"
    }
   ],
   "source": [
    "#Clean up the prevoius location used by last automl to upload fresh train and test files\n",
    "sm_helper.s3_clean_up(bucket = sm_helper.bucket, prefix = sm_helper.param_dict['dev']['train_prefix'])\n",
    "sm_helper.s3_clean_up(bucket = sm_helper.bucket, prefix=sm_helper.param_dict['dev']['test_prefix'])\n",
    "sm_helper.s3_clean_up(bucket = sm_helper.bucket, prefix=sm_helper.param_dict['dev']['inference_prefix'])"
   ]
  },
  {
   "cell_type": "markdown",
   "metadata": {},
   "source": [
    "## Make 3 different train/validate and test sets for each questionaire"
   ]
  },
  {
   "cell_type": "code",
   "execution_count": 3,
   "metadata": {},
   "outputs": [
    {
     "data": {
      "text/plain": [
       "True"
      ]
     },
     "execution_count": 3,
     "metadata": {},
     "output_type": "execute_result"
    }
   ],
   "source": [
    "sm_helper.make_and_clean_up_buyer_intent_data_set('csvs/buyer_intent_tr_val_set.csv', 'csvs/buyer_intent_tr_val_set_q1.csv', \n",
    "                                              'csvs/buyer_intent_tr_val_set_q2.csv', 'csvs/buyer_intent_tr_val_set_q3.csv')"
   ]
  },
  {
   "cell_type": "code",
   "execution_count": 4,
   "metadata": {},
   "outputs": [
    {
     "data": {
      "text/plain": [
       "True"
      ]
     },
     "execution_count": 4,
     "metadata": {},
     "output_type": "execute_result"
    }
   ],
   "source": [
    "sm_helper.make_and_clean_up_buyer_intent_data_set('csvs/buyer_intent_test_set.csv', 'csvs/buyer_intent_test_set_q1.csv', \n",
    "                                              'csvs/buyer_intent_test_set_q2.csv', 'csvs/buyer_intent_test_set_q3.csv')"
   ]
  },
  {
   "cell_type": "markdown",
   "metadata": {},
   "source": [
    "## STAGE_LABEL_1\n",
    "#### STEP 1 : Find Optimal model for first label\n",
    "#### STEP 2 : Load test data on s3 for inferencing\n",
    "#### STEP 3 : Find and Run Optimal model to get Inferenced predicted data and load to s3\n",
    "#### STEP 4 : Compute precision/recall for labels labels = [\"Dreamer\", \"Casual Explorer\", \"Active Searcher\", \"Ready to Transact\"]\n",
    "----"
   ]
  },
  {
   "cell_type": "code",
   "execution_count": 54,
   "metadata": {},
   "outputs": [
    {
     "data": {
      "text/plain": [
       "<matplotlib.axes._subplots.AxesSubplot at 0x7f3f82f7fb70>"
      ]
     },
     "execution_count": 54,
     "metadata": {},
     "output_type": "execute_result"
    },
    {
     "data": {
      "image/png": "[encoded data removed]",
      "text/plain": [
       "<Figure size 432x288 with 1 Axes>"
      ]
     },
     "metadata": {},
     "output_type": "display_data"
    }
   ],
   "source": [
    "# Training data set user segment distribution : enough data on each class\n",
    "df_q1_label_dist = pd.read_csv('csvs/buyer_intent_test_set_q1.csv')\n",
    "df_q1_label_dist = df_q1_label_dist.groupby(['stage_label_1']).size()\n",
    "df_q1_label_dist.plot.bar(title = 'Training data set(stage_label_1) with diffrent classes distribution')"
   ]
  },
  {
   "cell_type": "code",
   "execution_count": 5,
   "metadata": {},
   "outputs": [
    {
     "name": "stdout",
     "output_type": "stream",
     "text": [
      "file csvs/buyer_intent_tr_val_set_q1.csv uploaded to :s3://datascience-workspace-dev/buyer-intent/ml-sagemaker/autml-buyer-intent/train/buyer_intent_tr_val_set_q1.csv \n",
      "Train data uploaded to: s3://datascience-workspace-dev/buyer-intent/ml-sagemaker/autml-buyer-intent/train/buyer_intent_tr_val_set_q1.csv\n",
      "Start AutoML for Job Name: automl-bi-label1-27-01-35-23\n",
      "InProgress - Starting\n",
      "InProgress - Starting\n",
      "InProgress - AnalyzingData\n",
      "InProgress - AnalyzingData\n",
      "InProgress - FeatureEngineering\n",
      "InProgress - FeatureEngineering\n",
      "InProgress - FeatureEngineering\n",
      "InProgress - FeatureEngineering\n",
      "InProgress - FeatureEngineering\n",
      "InProgress - ModelTuning\n",
      "InProgress - ModelTuning\n",
      "InProgress - ModelTuning\n",
      "InProgress - ModelTuning\n",
      "InProgress - ModelTuning\n",
      "InProgress - ModelTuning\n",
      "InProgress - ModelTuning\n",
      "InProgress - ModelTuning\n",
      "InProgress - ModelTuning\n",
      "InProgress - ModelTuning\n",
      "InProgress - ModelTuning\n",
      "InProgress - ModelTuning\n",
      "InProgress - ModelTuning\n",
      "InProgress - ModelTuning\n",
      "InProgress - ModelTuning\n",
      "InProgress - ModelTuning\n",
      "InProgress - ModelTuning\n",
      "InProgress - ModelTuning\n",
      "InProgress - ModelTuning\n",
      "InProgress - ModelTuning\n",
      "InProgress - ModelTuning\n",
      "InProgress - ModelTuning\n",
      "InProgress - ModelTuning\n",
      "InProgress - ModelTuning\n",
      "InProgress - ModelTuning\n",
      "InProgress - ModelTuning\n",
      "InProgress - ModelTuning\n",
      "InProgress - ModelTuning\n",
      "InProgress - ModelTuning\n",
      "InProgress - ModelTuning\n",
      "InProgress - ModelTuning\n",
      "InProgress - ModelTuning\n",
      "InProgress - ModelTuning\n",
      "Completed - MaxAutoMLJobRuntimeReached\n",
      "Best Candidate Name for job automl-bi-label1-27-01-35-23 is tuning-job-1-756f06bda5aa4bce8d-246-dcbc4b82\n",
      "Best Candidate Performance is : 0.9435970187187195\n"
     ]
    }
   ],
   "source": [
    "(best_candidate_1, best_candidate_name_1, best_candidate_performance_1 ) = sm_helper.find_optimal_model(session = sm_helper.session, \n",
    "                                                                                                  bucket=sm_helper.bucket, \n",
    "                                                                                                  prefix=sm_helper.prefix, \n",
    "                                                                                                  train_file_name = 'csvs/buyer_intent_tr_val_set_q1.csv',\n",
    "                                                                                                  target_value = 'stage_label_1', \n",
    "                                                                                                  opt_metric = 'F1macro', \n",
    "                                                                                                  problem_type = 'MulticlassClassification',\n",
    "                                                                                                  max_candidate = 300, max_runtime = 7200,\n",
    "                                                                                                  job_suffix ='label1')"
   ]
  },
  {
   "cell_type": "code",
   "execution_count": 6,
   "metadata": {},
   "outputs": [
    {
     "name": "stdout",
     "output_type": "stream",
     "text": [
      "Test data uploaded to: s3://datascience-workspace-dev/buyer-intent/ml-sagemaker/autml-buyer-intent/test/no_trg_buyer_intent_test_set_q1.csv\n"
     ]
    }
   ],
   "source": [
    "test_data_s3_path_q1 = sm_helper.load_test_data_on_s3('csvs/buyer_intent_test_set_q1.csv','stage_label_1')"
   ]
  },
  {
   "cell_type": "code",
   "execution_count": 7,
   "metadata": {},
   "outputs": [
    {
     "name": "stdout",
     "output_type": "stream",
     "text": [
      "Model ARN corresponding to the candidate is : arn:aws:sagemaker:us-west-2:289154003759:model/bi-stage-label1-27-03-41-31\n",
      "InProgress\n",
      "InProgress\n",
      "InProgress\n",
      "Completed\n"
     ]
    }
   ],
   "source": [
    "from time import gmtime, strftime, sleep\n",
    "timestamp_suffix = strftime('%d-%H-%M-%S', gmtime()) \n",
    "sm_helper. inference_model(sm = sm_helper.sm, role = sm_helper.role, model_name = 'bi-stage-label1-' + timestamp_suffix, \n",
    "                       candidate_container = best_candidate_1['InferenceContainers'], \n",
    "                       transform_job_name = 'bi-stage-label1-transform-' + timestamp_suffix, \n",
    "                       input_data_on_s3 = test_data_s3_path_q1, \n",
    "                       output_bucket = sm_helper.bucket  , \n",
    "                       output_prefix =sm_helper.prefix, \n",
    "                       instance_type ='ml.m5.xlarge', instance_count = 1)"
   ]
  },
  {
   "cell_type": "code",
   "execution_count": 8,
   "metadata": {},
   "outputs": [
    {
     "data": {
      "text/plain": [
       "True"
      ]
     },
     "execution_count": 8,
     "metadata": {},
     "output_type": "execute_result"
    }
   ],
   "source": [
    "# Load Infered data from S3 to compute precision and recall\n",
    "sm_helper.load_data_from_s3('s3://{}/{}/inference-results/{}'.format(sm_helper.bucket,sm_helper.prefix,'no_trg_buyer_intent_test_set_q1.csv.out'), \n",
    "                  'csvs/infered_label_1.csv')"
   ]
  },
  {
   "cell_type": "code",
   "execution_count": 9,
   "metadata": {},
   "outputs": [],
   "source": [
    "(cm_1, precision_1, recall_1) = sm_helper.compute_precision_recall('csvs/buyer_intent_test_set_q1.csv', 'csvs/infered_label_1.csv', 'stage_label_1' )"
   ]
  },
  {
   "cell_type": "code",
   "execution_count": 10,
   "metadata": {},
   "outputs": [
    {
     "name": "stdout",
     "output_type": "stream",
     "text": [
      "-----------------------------------------\n",
      "Confusion Matrix for First labeling ::\n",
      "[[154   1  47   0]\n",
      " [  3  99  30   0]\n",
      " [ 14   8 586   7]\n",
      " [  1   3  38  96]]\n",
      "Precision ::\n",
      "[0.89534884 0.89189189 0.83594864 0.93203883]\n",
      "Recall ::\n",
      "[0.76237624 0.75       0.95284553 0.69565217]\n",
      "-----------------------------------------\n"
     ]
    }
   ],
   "source": [
    "print('-----------------------------------------')\n",
    "print('Confusion Matrix for First labeling ::')\n",
    "print(cm_1)\n",
    "print('Precision ::')\n",
    "print(precision_1)\n",
    "print('Recall ::')\n",
    "print(recall_1)\n",
    "print('-----------------------------------------')"
   ]
  },
  {
   "cell_type": "markdown",
   "metadata": {},
   "source": [
    "## STAGE_LABEL_2\n",
    "#### STEP 1 : Find Optimal model for second label\n",
    "#### STEP 2 : Load test data on s3 for inferencing\n",
    "#### STEP 3 : Find and Run Optimal model to get Inferenced predicted data and load to s3\n",
    "#### STEP 4 : Compute precision/recall for labels labels = [\"Dreamer\", \"Casual Explorer\", \"Active Searcher\", \"Ready to Transact\"]\n",
    "----"
   ]
  },
  {
   "cell_type": "code",
   "execution_count": 11,
   "metadata": {},
   "outputs": [
    {
     "data": {
      "text/plain": [
       "True"
      ]
     },
     "execution_count": 11,
     "metadata": {},
     "output_type": "execute_result"
    }
   ],
   "source": [
    "#Clean up the prevoius location used by last automl\n",
    "sm_helper.s3_clean_up(bucket = sm_helper.bucket, prefix = sm_helper.param_dict['dev']['train_prefix'])\n",
    "sm_helper.s3_clean_up(bucket = sm_helper.bucket, prefix=sm_helper.param_dict['dev']['test_prefix'])"
   ]
  },
  {
   "cell_type": "code",
   "execution_count": 53,
   "metadata": {},
   "outputs": [
    {
     "data": {
      "text/plain": [
       "<matplotlib.axes._subplots.AxesSubplot at 0x7f3f96b6db00>"
      ]
     },
     "execution_count": 53,
     "metadata": {},
     "output_type": "execute_result"
    },
    {
     "data": {
      "image/png": "[encoded data removed]",
      "text/plain": [
       "<Figure size 432x288 with 1 Axes>"
      ]
     },
     "metadata": {},
     "output_type": "display_data"
    }
   ],
   "source": [
    "# Training data set user segment distribution : enough data on each class\n",
    "df_q2_label_dist = pd.read_csv('csvs/buyer_intent_test_set_q2.csv')\n",
    "df_q2_label_dist = df_q2_label_dist.groupby(['stage_label_2']).size()\n",
    "df_q2_label_dist.plot.bar(title = 'Training data set(stage_label_2) with diffrent classes distribution')"
   ]
  },
  {
   "cell_type": "code",
   "execution_count": 12,
   "metadata": {},
   "outputs": [
    {
     "name": "stdout",
     "output_type": "stream",
     "text": [
      "file csvs/buyer_intent_tr_val_set_q2.csv uploaded to :s3://datascience-workspace-dev/buyer-intent/ml-sagemaker/autml-buyer-intent/train/buyer_intent_tr_val_set_q2.csv \n",
      "Train data uploaded to: s3://datascience-workspace-dev/buyer-intent/ml-sagemaker/autml-buyer-intent/train/buyer_intent_tr_val_set_q2.csv\n",
      "Start AutoML for Job Name: automl-bi-label2-27-03-50-33\n",
      "InProgress - Starting\n",
      "InProgress - Starting\n",
      "InProgress - AnalyzingData\n",
      "InProgress - AnalyzingData\n",
      "InProgress - FeatureEngineering\n",
      "InProgress - FeatureEngineering\n",
      "InProgress - FeatureEngineering\n",
      "InProgress - FeatureEngineering\n",
      "InProgress - FeatureEngineering\n",
      "InProgress - ModelTuning\n",
      "InProgress - ModelTuning\n",
      "InProgress - ModelTuning\n",
      "InProgress - ModelTuning\n",
      "InProgress - ModelTuning\n",
      "InProgress - ModelTuning\n",
      "InProgress - ModelTuning\n",
      "InProgress - ModelTuning\n",
      "InProgress - ModelTuning\n",
      "InProgress - ModelTuning\n",
      "InProgress - ModelTuning\n",
      "InProgress - ModelTuning\n",
      "InProgress - ModelTuning\n",
      "InProgress - ModelTuning\n",
      "InProgress - ModelTuning\n",
      "InProgress - ModelTuning\n",
      "InProgress - ModelTuning\n",
      "InProgress - ModelTuning\n",
      "InProgress - ModelTuning\n",
      "InProgress - ModelTuning\n",
      "InProgress - ModelTuning\n",
      "InProgress - ModelTuning\n",
      "InProgress - ModelTuning\n",
      "InProgress - ModelTuning\n",
      "InProgress - ModelTuning\n",
      "InProgress - ModelTuning\n",
      "InProgress - ModelTuning\n",
      "InProgress - ModelTuning\n",
      "InProgress - ModelTuning\n",
      "InProgress - ModelTuning\n",
      "InProgress - ModelTuning\n",
      "InProgress - ModelTuning\n",
      "InProgress - ModelTuning\n",
      "Completed - MaxAutoMLJobRuntimeReached\n",
      "Best Candidate Name for job automl-bi-label2-27-03-50-33 is tuning-job-1-9522bf32468f45809c-171-17faa29f\n",
      "Best Candidate Performance is : 0.9210079908370972\n"
     ]
    }
   ],
   "source": [
    "(best_candidate_2, best_candidate_name_2, best_candidate_performance_2 ) = sm_helper.find_optimal_model(session = sm_helper.session, \n",
    "                                                                                                  bucket=sm_helper.bucket, \n",
    "                                                                                                  prefix=sm_helper.prefix, \n",
    "                                                                                                  train_file_name = 'csvs/buyer_intent_tr_val_set_q2.csv', \n",
    "                                                                                                  target_value = 'stage_label_2', \n",
    "                                                                                                  opt_metric = 'F1macro', \n",
    "                                                                                                  problem_type = 'MulticlassClassification',\n",
    "                                                                                                  max_candidate = 300, max_runtime = 7200,\n",
    "                                                                                                  job_suffix ='label2')"
   ]
  },
  {
   "cell_type": "code",
   "execution_count": 13,
   "metadata": {},
   "outputs": [
    {
     "name": "stdout",
     "output_type": "stream",
     "text": [
      "Test data uploaded to: s3://datascience-workspace-dev/buyer-intent/ml-sagemaker/autml-buyer-intent/test/no_trg_buyer_intent_test_set_q2.csv\n"
     ]
    }
   ],
   "source": [
    "test_data_s3_path_q2 = sm_helper.load_test_data_on_s3('csvs/buyer_intent_test_set_q2.csv','stage_label_2')"
   ]
  },
  {
   "cell_type": "code",
   "execution_count": 14,
   "metadata": {},
   "outputs": [
    {
     "name": "stdout",
     "output_type": "stream",
     "text": [
      "Model ARN corresponding to the candidate is : arn:aws:sagemaker:us-west-2:289154003759:model/bi-stage-label2-27-05-56-41\n",
      "InProgress\n",
      "InProgress\n",
      "InProgress\n",
      "Completed\n"
     ]
    }
   ],
   "source": [
    "timestamp_suffix = strftime('%d-%H-%M-%S', gmtime()) \n",
    "sm_helper. inference_model(sm = sm_helper.sm, role = sm_helper.role, model_name = 'bi-stage-label2-' + timestamp_suffix, \n",
    "                       candidate_container = best_candidate_2['InferenceContainers'], \n",
    "                       transform_job_name = 'bi-stage-label2-transform-' + timestamp_suffix, \n",
    "                       input_data_on_s3 = test_data_s3_path_q2, \n",
    "                       output_bucket = sm_helper.bucket  , \n",
    "                       output_prefix =sm_helper.prefix, \n",
    "                       instance_type ='ml.m5.xlarge', instance_count = 1)"
   ]
  },
  {
   "cell_type": "code",
   "execution_count": 15,
   "metadata": {},
   "outputs": [
    {
     "data": {
      "text/plain": [
       "True"
      ]
     },
     "execution_count": 15,
     "metadata": {},
     "output_type": "execute_result"
    }
   ],
   "source": [
    "# Load Infered data from S3 to compute precision and recall\n",
    "sm_helper.load_data_from_s3('s3://{}/{}/inference-results/{}'.format(sm_helper.bucket, sm_helper.prefix,'no_trg_buyer_intent_test_set_q2.csv.out'), \n",
    "                  'csvs/infered_label_2.csv')"
   ]
  },
  {
   "cell_type": "code",
   "execution_count": 16,
   "metadata": {},
   "outputs": [],
   "source": [
    "(cm_2, precision_2, recall_2) = sm_helper.compute_precision_recall('csvs/buyer_intent_test_set_q2.csv', 'csvs/infered_label_2.csv', 'stage_label_2' )"
   ]
  },
  {
   "cell_type": "code",
   "execution_count": 17,
   "metadata": {},
   "outputs": [
    {
     "name": "stdout",
     "output_type": "stream",
     "text": [
      "-----------------------------------------\n",
      "Confusion Matrix for Second labeling ::\n",
      "[[ 20   6   9   3]\n",
      " [  0 237  50  17]\n",
      " [  0  64 362  17]\n",
      " [  0  25  59 218]]\n",
      "Precision ::\n",
      "[1.         0.71385542 0.75416667 0.85490196]\n",
      "Recall ::\n",
      "[0.52631579 0.77960526 0.81715576 0.7218543 ]\n",
      "-----------------------------------------\n"
     ]
    }
   ],
   "source": [
    "print('-----------------------------------------')\n",
    "print('Confusion Matrix for Second labeling ::')\n",
    "print(cm_2)\n",
    "print('Precision ::')\n",
    "print(precision_2)\n",
    "print('Recall ::')\n",
    "print(recall_2)\n",
    "print('-----------------------------------------')"
   ]
  },
  {
   "cell_type": "markdown",
   "metadata": {},
   "source": [
    "## STAGE_LABEL_3\n",
    "\n",
    "#### STEP 1 : Find Optimal model for third label\n",
    "#### STEP 2 : Load test data on s3 for inferencing\n",
    "#### STEP 3 : Find and Run Optimal model to get Inferenced predicted data and load to s3\n",
    "#### STEP 4 : Compute precision/recall for labels labels = [\"Dreamer\", \"Casual Explorer\", \"Active Searcher\", \"Ready to Transact\"]\n",
    "----"
   ]
  },
  {
   "cell_type": "code",
   "execution_count": 25,
   "metadata": {},
   "outputs": [
    {
     "data": {
      "text/plain": [
       "True"
      ]
     },
     "execution_count": 25,
     "metadata": {},
     "output_type": "execute_result"
    }
   ],
   "source": [
    "#Clean up the prevoius location used by last automl for loading data again\n",
    "sm_helper.s3_clean_up(bucket = sm_helper.bucket, prefix = sm_helper.param_dict['dev']['train_prefix'])\n",
    "sm_helper.s3_clean_up(bucket = sm_helper.bucket, prefix=sm_helper.param_dict['dev']['test_prefix'])"
   ]
  },
  {
   "cell_type": "code",
   "execution_count": 52,
   "metadata": {},
   "outputs": [
    {
     "data": {
      "text/plain": [
       "<matplotlib.axes._subplots.AxesSubplot at 0x7f3f82f120b8>"
      ]
     },
     "execution_count": 52,
     "metadata": {},
     "output_type": "execute_result"
    },
    {
     "data": {
      "image/png": "[encoded data removed]",
      "text/plain": [
       "<Figure size 432x288 with 1 Axes>"
      ]
     },
     "metadata": {},
     "output_type": "display_data"
    }
   ],
   "source": [
    "# Training data set user segment distribution : enough data on each class\n",
    "df_q3_label_dist = pd.read_csv('csvs/buyer_intent_test_set_q3.csv')\n",
    "df_q3_label_dist = df_q3_label_dist.groupby(['stage_label_3']).size()\n",
    "df_q3_label_dist.plot.bar(title = 'Training data set(stage_label_3) with diffrent classes distribution')"
   ]
  },
  {
   "cell_type": "code",
   "execution_count": 26,
   "metadata": {},
   "outputs": [
    {
     "name": "stdout",
     "output_type": "stream",
     "text": [
      "file csvs/buyer_intent_tr_val_set_q3.csv uploaded to :s3://datascience-workspace-dev/buyer-intent/ml-sagemaker/autml-buyer-intent/train/buyer_intent_tr_val_set_q3.csv \n",
      "Train data uploaded to: s3://datascience-workspace-dev/buyer-intent/ml-sagemaker/autml-buyer-intent/train/buyer_intent_tr_val_set_q3.csv\n",
      "Start AutoML for Job Name: automl-bi-label3-27-15-20-57\n",
      "InProgress - Starting\n",
      "InProgress - Starting\n",
      "InProgress - AnalyzingData\n",
      "InProgress - AnalyzingData\n",
      "InProgress - FeatureEngineering\n",
      "InProgress - FeatureEngineering\n",
      "InProgress - FeatureEngineering\n",
      "InProgress - FeatureEngineering\n",
      "InProgress - FeatureEngineering\n",
      "InProgress - ModelTuning\n",
      "InProgress - ModelTuning\n",
      "InProgress - ModelTuning\n",
      "InProgress - ModelTuning\n",
      "InProgress - ModelTuning\n",
      "InProgress - ModelTuning\n",
      "InProgress - ModelTuning\n",
      "InProgress - ModelTuning\n",
      "InProgress - ModelTuning\n",
      "InProgress - ModelTuning\n",
      "InProgress - ModelTuning\n",
      "InProgress - ModelTuning\n",
      "InProgress - ModelTuning\n",
      "Completed - MaxAutoMLJobRuntimeReached\n",
      "Best Candidate Name for job automl-bi-label3-27-15-20-57 is tuning-job-1-b8646cf358d94e068d-084-b2bce3f3\n",
      "Best Candidate Performance is : 0.9066460132598877\n"
     ]
    }
   ],
   "source": [
    "(best_candidate_3, best_candidate_name_3, best_candidate_performance_3 ) = sm_helper.find_optimal_model(session = sm_helper.session, \n",
    "                                                                                                  bucket=sm_helper.bucket, \n",
    "                                                                                                  prefix=sm_helper.prefix, \n",
    "                                                                                                  train_file_name = 'csvs/buyer_intent_tr_val_set_q3.csv', \n",
    "                                                                                                  target_value = 'stage_label_3', \n",
    "                                                                                                  opt_metric = 'F1macro', \n",
    "                                                                                                  problem_type = 'MulticlassClassification',\n",
    "                                                                                                  max_candidate = 300, max_runtime = 7200,\n",
    "                                                                                                  job_suffix ='label3') "
   ]
  },
  {
   "cell_type": "code",
   "execution_count": 27,
   "metadata": {},
   "outputs": [
    {
     "name": "stdout",
     "output_type": "stream",
     "text": [
      "Test data uploaded to: s3://datascience-workspace-dev/buyer-intent/ml-sagemaker/autml-buyer-intent/test/no_trg_buyer_intent_test_set_q3.csv\n"
     ]
    }
   ],
   "source": [
    "test_data_s3_path_q3 = sm_helper.load_test_data_on_s3('csvs/buyer_intent_test_set_q3.csv','stage_label_3')"
   ]
  },
  {
   "cell_type": "code",
   "execution_count": 28,
   "metadata": {},
   "outputs": [
    {
     "name": "stdout",
     "output_type": "stream",
     "text": [
      "Model ARN corresponding to the candidate is : arn:aws:sagemaker:us-west-2:289154003759:model/bi-stage-label3-27-16-27-02\n",
      "InProgress\n",
      "InProgress\n",
      "InProgress\n",
      "Completed\n"
     ]
    }
   ],
   "source": [
    "timestamp_suffix = strftime('%d-%H-%M-%S', gmtime()) \n",
    "sm_helper. inference_model(sm = sm_helper.sm, role = sm_helper.role, model_name = 'bi-stage-label3-' + timestamp_suffix, \n",
    "                       candidate_container = best_candidate_3['InferenceContainers'], \n",
    "                       transform_job_name = 'bi-stage-label3-transform-' + timestamp_suffix, \n",
    "                       input_data_on_s3 = test_data_s3_path_q3, \n",
    "                       output_bucket = sm_helper.bucket  , \n",
    "                       output_prefix =sm_helper.prefix, \n",
    "                       instance_type ='ml.m5.xlarge', instance_count = 1)"
   ]
  },
  {
   "cell_type": "code",
   "execution_count": 29,
   "metadata": {},
   "outputs": [
    {
     "data": {
      "text/plain": [
       "True"
      ]
     },
     "execution_count": 29,
     "metadata": {},
     "output_type": "execute_result"
    }
   ],
   "source": [
    "# Load Infered data from S3 to compute precision and recall\n",
    "sm_helper.load_data_from_s3('s3://{}/{}/inference-results/{}'.format(sm_helper.bucket,sm_helper.prefix,'no_trg_buyer_intent_test_set_q3.csv.out'), \n",
    "                  'csvs/infered_label_3.csv')"
   ]
  },
  {
   "cell_type": "code",
   "execution_count": 30,
   "metadata": {},
   "outputs": [],
   "source": [
    "(cm_3, precision_3, recall_3) = sm_helper.compute_precision_recall('csvs/buyer_intent_test_set_q3.csv', 'csvs/infered_label_3.csv', 'stage_label_3' )"
   ]
  },
  {
   "cell_type": "code",
   "execution_count": 31,
   "metadata": {},
   "outputs": [
    {
     "name": "stdout",
     "output_type": "stream",
     "text": [
      "-----------------------------------------\n",
      "Confusion Matrix for Third labeling ::\n",
      "[[ 82  14  22  12]\n",
      " [  4 234  37  19]\n",
      " [  3  32 302  38]\n",
      " [  1  34  30 223]]\n",
      "Precision ::\n",
      "[0.91111111 0.74522293 0.77237852 0.76369863]\n",
      "Recall ::\n",
      "[0.63076923 0.79591837 0.80533333 0.77430556]\n",
      "-----------------------------------------\n"
     ]
    }
   ],
   "source": [
    "print('-----------------------------------------')\n",
    "print('Confusion Matrix for Third labeling ::')\n",
    "print(cm_3)\n",
    "print('Precision ::')\n",
    "print(precision_3)\n",
    "print('Recall ::')\n",
    "print(recall_3)\n",
    "print('-----------------------------------------')"
   ]
  },
  {
   "cell_type": "markdown",
   "metadata": {},
   "source": [
    "# Summary\n",
    "-----------------------------------------\n",
    "|Label   | Min Precision   | Min Recall  |\n",
    "|:-:|:-:|:-:|\n",
    "| **stage_label_1**  |**0.83594864**   |**0.75**   |\n",
    "| stage_label_2  |0.71385542  |0.52631579  |\n",
    "| stage_label_3  |0.74522293  |0.63076923   |\n",
    "\n",
    "\n",
    "**Best Model** : XGboost with :\n",
    "\n",
    "|Parameter|Value|\n",
    "|:-:|:-:|\n",
    "|alpha|0.00024323154907073826|\n",
    "|colsample_bytree|0.7897946760436036|\n",
    "|eta|0.3959767109864848|\n",
    "|gamma|0.02471796689079823|\n",
    "|lambda|6.229569315092911e-05|\n",
    "|max_depth|15|\n",
    "|min_child_weight|2.5049003218066525e-06|\n",
    "|num_class|4|\n",
    "|num_round|171|\n",
    "|subsample|0.8509744839970474|\n",
    "\n",
    "**Conclusion :** \n",
    "*Stage_label_1 works better than the other labeling systems (~ **20%** works better that other two classes)*"
   ]
  },
  {
   "cell_type": "code",
   "execution_count": 4,
   "metadata": {},
   "outputs": [
    {
     "data": {
      "image/png": "[encoded data removed]",
      "text/plain": [
       "<Figure size 1008x720 with 1 Axes>"
      ]
     },
     "metadata": {},
     "output_type": "display_data"
    }
   ],
   "source": [
    "import matplotlib\n",
    "import matplotlib.pyplot as plt\n",
    "import numpy as np\n",
    "\n",
    "labels = ['Dreamer', 'Casual Explorer', 'Active Searcher', 'Ready to Transact']\n",
    "pre = [0.89534884, 0.89189189, 0.83594864, 0.93203883]\n",
    "rec = [0.76237624, 0.75,       0.95284553, 0.69565217]\n",
    "\n",
    "x = np.arange(len(labels))  # the label locations\n",
    "#x = labels  # the label locations\n",
    "width = 0.35  # the width of the bars\n",
    "\n",
    "fig, ax = plt.subplots()\n",
    "rects1 = ax.bar(x-width/2, pre, width, label='Precision')\n",
    "rects2 = ax.bar(x+width/2, rec, width, label='Recall')\n",
    "\n",
    "# Add some text for labels, title and custom x-axis tick labels, etc.\n",
    "ax.set_ylabel('Model Performance')\n",
    "ax.set_title('Prediction/Recall based on 90 days Activity of the User base on stage_label_1')\n",
    "ax.set_xticks(x)\n",
    "ax.set_xticklabels(labels)\n",
    "ax.legend()\n",
    "\n",
    "\n",
    "def autolabel(rects):\n",
    "    \"\"\"Attach a text label above each bar in *rects*, displaying its height.\"\"\"\n",
    "    for rect in rects:\n",
    "        height = rect.get_height()\n",
    "        ax.annotate('{}'.format(height),\n",
    "                    xy=(rect.get_x() + rect.get_width() / 2, height),\n",
    "                    xytext=(0, 3),  # 3 points vertical offset\n",
    "                    textcoords=\"offset points\",\n",
    "                    ha='center', va='bottom')\n",
    "\n",
    "\n",
    "autolabel(rects1)\n",
    "autolabel(rects2)\n",
    "\n",
    "fig.tight_layout()\n",
    "fig.set_size_inches(14, 10)\n",
    "\n",
    "#plt.savefig('pre_recall_90.png')\n",
    "plt.show()"
   ]
  },
  {
   "cell_type": "code",
   "execution_count": null,
   "metadata": {},
   "outputs": [],
   "source": []
  }
 ],
 "metadata": {
  "kernelspec": {
   "display_name": "conda_python3",
   "language": "python",
   "name": "conda_python3"
  },
  "language_info": {
   "codemirror_mode": {
    "name": "ipython",
    "version": 3
   },
   "file_extension": ".py",
   "mimetype": "text/x-python",
   "name": "python",
   "nbconvert_exporter": "python",
   "pygments_lexer": "ipython3",
   "version": "3.6.5"
  }
 },
 "nbformat": 4,
 "nbformat_minor": 4
}
