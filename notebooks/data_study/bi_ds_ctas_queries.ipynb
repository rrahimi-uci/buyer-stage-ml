{
 "cells": [
  {
   "cell_type": "markdown",
   "metadata": {},
   "source": [
    "## Drop Tables"
   ]
  },
  {
   "cell_type": "code",
   "execution_count": 1,
   "metadata": {},
   "outputs": [
    {
     "ename": "NameError",
     "evalue": "name 'time_stamp' is not defined",
     "output_type": "error",
     "traceback": [
      "\u001b[0;31m---------------------------------------------------------------------------\u001b[0m",
      "\u001b[0;31mNameError\u001b[0m                                 Traceback (most recent call last)",
      "\u001b[0;32m<ipython-input-1-342722c3cf66>\u001b[0m in \u001b[0;36m<module>\u001b[0;34m()\u001b[0m\n\u001b[1;32m      1\u001b[0m \u001b[0;34m\u001b[0m\u001b[0m\n\u001b[0;32m----> 2\u001b[0;31m \u001b[0mctas_query_drop_cap_001_timestamp\u001b[0m \u001b[0;34m=\u001b[0m \u001b[0;34m\"\"\"DROP TABLE buyer_intent_user_interactions.biui_qa_cap_summary_t001_{};\"\"\"\u001b[0m\u001b[0;34m.\u001b[0m\u001b[0mformat\u001b[0m\u001b[0;34m(\u001b[0m\u001b[0mtime_stamp\u001b[0m\u001b[0;34m)\u001b[0m\u001b[0;34m\u001b[0m\u001b[0m\n\u001b[0m\u001b[1;32m      3\u001b[0m \u001b[0mutil\u001b[0m\u001b[0;34m.\u001b[0m\u001b[0mexecute_query\u001b[0m\u001b[0;34m(\u001b[0m\u001b[0msql_query\u001b[0m \u001b[0;34m=\u001b[0m \u001b[0mctas_query_drop_cap_001_timestamp\u001b[0m\u001b[0;34m)\u001b[0m\u001b[0;34m\u001b[0m\u001b[0m\n\u001b[1;32m      4\u001b[0m \u001b[0;34m\u001b[0m\u001b[0m\n\u001b[1;32m      5\u001b[0m \u001b[0;31m# Creat Table Again\u001b[0m\u001b[0;34m\u001b[0m\u001b[0;34m\u001b[0m\u001b[0m\n",
      "\u001b[0;31mNameError\u001b[0m: name 'time_stamp' is not defined"
     ]
    }
   ],
   "source": [
    "\n",
    "ctas_query_drop_cap_001_timestamp = \"\"\"DROP TABLE buyer_intent_user_interactions.biui_qa_cap_summary_t001_{};\"\"\".format(time_stamp)\n",
    "util.execute_query(sql_query = ctas_query_drop_cap_001_timestamp)\n",
    "\n",
    "# Creat Table Again\n",
    "ctas_query_cap_001_timestamp=\"\"\"CREATE TABLE buyer_intent_user_interactions.biui_qa_cap_summary_t001_{}\n",
    "WITH ( format='PARQUET' ) AS\n",
    "SELECT *\n",
    "FROM buyer_intent_user_interactions.biui_qa_consumer_analytical_profile_summary_t001\n",
    "WHERE snapshot_date_mst_yyyymmdd = '{}';\"\"\".format(time_stamp,\n",
    "                                                   time_stamp)"
   ]
  },
  {
   "cell_type": "markdown",
   "metadata": {},
   "source": [
    "## Data Set Generation"
   ]
  },
  {
   "cell_type": "code",
   "execution_count": 5,
   "metadata": {},
   "outputs": [],
   "source": [
    "param_dict = {\n",
    "    's3_path': 's3://datascience-workspace-dev/buyer-intent/user_interactions_stage/tables',\n",
    "    'snap_shot_date':time_stamp,\n",
    "    'cap_summary_time_filtered':'biui_qa_cap_summary_t001',\n",
    "    'caplead_summary_time_filtered':'biui_qa_cap_lead_summary_t001'\n",
    "}"
   ]
  },
  {
   "cell_type": "code",
   "execution_count": null,
   "metadata": {},
   "outputs": [],
   "source": [
    "ctas_create_cap_lead_trans_001 = \"\"\"CREATE TABLE buyer_intent_user_interactions_stage.cap_lead_trans_001_{snap_shot_date} WITH (\n",
    "external_location = '{s3_path}/cap_lead_trans_001_{snap_shot_date}',\n",
    "format='PARQUET'\n",
    ") AS\n",
    "SELECT\n",
    "buyer_intent_user_interactions.{cap_summary_time_filtered}_{snap_shot_date}.member_id,\n",
    "buyer_intent_user_interactions.{cap_summary_time_filtered}_{snap_shot_date}.total_saved_listings,\n",
    "-- Search behaviour of the user\n",
    "buyer_intent_user_interactions.{cap_summary_time_filtered}_{snap_shot_date}.total_searches,\n",
    "buyer_intent_user_interactions.{cap_summary_time_filtered}_{snap_shot_date}.total_saved_searches,\n",
    "buyer_intent_user_interactions.{cap_summary_time_filtered}_{snap_shot_date}.median_searches,\n",
    "buyer_intent_user_interactions.{cap_summary_time_filtered}_{snap_shot_date}.average_searches,\n",
    "buyer_intent_user_interactions.{cap_summary_time_filtered}_{snap_shot_date}.median_search_min_price,\n",
    "buyer_intent_user_interactions.{cap_summary_time_filtered}_{snap_shot_date}.average_search_min_price,\n",
    "buyer_intent_user_interactions.{cap_summary_time_filtered}_{snap_shot_date}.minimum_search_min_price,\n",
    "buyer_intent_user_interactions.{cap_summary_time_filtered}_{snap_shot_date}.maximum_search_min_price,\n",
    "buyer_intent_user_interactions.{cap_summary_time_filtered}_{snap_shot_date}.median_search_max_price,\n",
    "buyer_intent_user_interactions.{cap_summary_time_filtered}_{snap_shot_date}.average_search_max_price,\n",
    "buyer_intent_user_interactions.{cap_summary_time_filtered}_{snap_shot_date}.minimum_search_max_price,\n",
    "buyer_intent_user_interactions.{cap_summary_time_filtered}_{snap_shot_date}.maximum_search_max_price,\n",
    "buyer_intent_user_interactions.{cap_summary_time_filtered}_{snap_shot_date}.median_search_number_of_bedrooms,\n",
    "buyer_intent_user_interactions.{cap_summary_time_filtered}_{snap_shot_date}.average_search_number_of_bedrooms,\n",
    "buyer_intent_user_interactions.{cap_summary_time_filtered}_{snap_shot_date}.minimum_search_number_of_bedrooms,\n",
    "buyer_intent_user_interactions.{cap_summary_time_filtered}_{snap_shot_date}.maximum_search_number_of_bedrooms,\n",
    "buyer_intent_user_interactions.{cap_summary_time_filtered}_{snap_shot_date}.minimum_search_number_of_bathrooms,\n",
    "buyer_intent_user_interactions.{cap_summary_time_filtered}_{snap_shot_date}.maximum_search_number_of_bathrooms,\n",
    "buyer_intent_user_interactions.{cap_summary_time_filtered}_{snap_shot_date}.median_search_number_of_bathrooms,\n",
    "buyer_intent_user_interactions.{cap_summary_time_filtered}_{snap_shot_date}.average_search_number_of_bathrooms,\n",
    "buyer_intent_user_interactions.{cap_summary_time_filtered}_{snap_shot_date}.total_srp_dwell_time_seconds,\n",
    "buyer_intent_user_interactions.{cap_summary_time_filtered}_{snap_shot_date}.average_srp_dwell_time_seconds,\n",
    "buyer_intent_user_interactions.{cap_summary_time_filtered}_{snap_shot_date}.median_srp_dwell_time_seconds,\n",
    "buyer_intent_user_interactions.{cap_summary_time_filtered}_{snap_shot_date}.minimum_srp_dwell_time_seconds,\n",
    "buyer_intent_user_interactions.{cap_summary_time_filtered}_{snap_shot_date}.maximum_srp_dwell_time_seconds,\n",
    "-- Exploring different items with more detail interactions\n",
    "buyer_intent_user_interactions.{cap_summary_time_filtered}_{snap_shot_date}.total_ldp_page_views,\n",
    "buyer_intent_user_interactions.{cap_summary_time_filtered}_{snap_shot_date}.median_ldp_page_views,\n",
    "buyer_intent_user_interactions.{cap_summary_time_filtered}_{snap_shot_date}.average_ldp_page_views,\n",
    "buyer_intent_user_interactions.{cap_summary_time_filtered}_{snap_shot_date}.average_ldp_dwell_time_seconds,\n",
    "buyer_intent_user_interactions.{cap_summary_time_filtered}_{snap_shot_date}.total_ldp_dwell_time_seconds,\n",
    "buyer_intent_user_interactions.{cap_summary_time_filtered}_{snap_shot_date}.median_ldp_dwell_time_seconds,\n",
    "buyer_intent_user_interactions.{cap_summary_time_filtered}_{snap_shot_date}.minimum_ldp_dwell_time_seconds,\n",
    "buyer_intent_user_interactions.{cap_summary_time_filtered}_{snap_shot_date}.maximum_ldp_dwell_time_seconds,\n",
    "buyer_intent_user_interactions.{cap_summary_time_filtered}_{snap_shot_date}.total_distinct_listings_viewed,\n",
    "buyer_intent_user_interactions.{cap_summary_time_filtered}_{snap_shot_date}.total_listings_viewed,\n",
    "buyer_intent_user_interactions.{cap_summary_time_filtered}_{snap_shot_date}.median_distinct_listings_viewed,\n",
    "buyer_intent_user_interactions.{cap_summary_time_filtered}_{snap_shot_date}.average_distinct_listings_viewed,\n",
    "buyer_intent_user_interactions.{cap_summary_time_filtered}_{snap_shot_date}.median_listings_viewed,\n",
    "buyer_intent_user_interactions.{cap_summary_time_filtered}_{snap_shot_date}.average_listings_viewed,\n",
    "buyer_intent_user_interactions.{cap_summary_time_filtered}_{snap_shot_date}.median_ldp_listing_number_of_bath_rooms,\n",
    "buyer_intent_user_interactions.{cap_summary_time_filtered}_{snap_shot_date}.median_ldp_listing_number_of_bed_rooms,\n",
    "buyer_intent_user_interactions.{cap_summary_time_filtered}_{snap_shot_date}.median_ldp_listing_current_price,\n",
    "buyer_intent_user_interactions.{cap_summary_time_filtered}_{snap_shot_date}.average_ldp_listing_number_of_bath_rooms,\n",
    "buyer_intent_user_interactions.{cap_summary_time_filtered}_{snap_shot_date}.average_ldp_listing_number_of_bed_rooms,\n",
    "buyer_intent_user_interactions.{cap_summary_time_filtered}_{snap_shot_date}.average_ldp_listing_current_price,\n",
    "buyer_intent_user_interactions.{cap_summary_time_filtered}_{snap_shot_date}.standard_deviation_ldp_listing_number_of_bath_rooms,\n",
    "buyer_intent_user_interactions.{cap_summary_time_filtered}_{snap_shot_date}.standard_deviation_ldp_listing_number_of_bed_rooms,\n",
    "buyer_intent_user_interactions.{cap_summary_time_filtered}_{snap_shot_date}.standard_deviation_ldp_listing_current_price,\n",
    "buyer_intent_user_interactions.{cap_summary_time_filtered}_{snap_shot_date}.median_ldp_listing_original_price,\n",
    "buyer_intent_user_interactions.{cap_summary_time_filtered}_{snap_shot_date}.average_ldp_listing_original_price,\n",
    "buyer_intent_user_interactions.{cap_summary_time_filtered}_{snap_shot_date}.standard_deviation_ldp_listing_original_price,\n",
    "-- Behavior of the user in submitting leads\n",
    "buyer_intent_user_interactions.{cap_summary_time_filtered}_{snap_shot_date}.total_leads_submitted,\n",
    "buyer_intent_user_interactions.{cap_summary_time_filtered}_{snap_shot_date}.submitted_leads_for_rent,\n",
    "buyer_intent_user_interactions.{cap_summary_time_filtered}_{snap_shot_date}.submitted_leads_for_sale,\n",
    "buyer_intent_user_interactions.{cap_summary_time_filtered}_{snap_shot_date}.submitted_leads_not_for_sale,\n",
    "-- Behaviour for doing transactions\n",
    "buyer_intent_user_interactions.{caplead_summary_time_filtered}_{snap_shot_date}.consumer_score_probablity_to_transact\n",
    "FROM buyer_intent_user_interactions.{cap_summary_time_filtered}_{snap_shot_date} INNER JOIN buyer_intent_user_interactions.{caplead_summary_time_filtered}_{snap_shot_date}\n",
    "ON buyer_intent_user_interactions.{cap_summary_time_filtered}_{snap_shot_date}.member_id = buyer_intent_user_interactions.{caplead_summary_time_filtered}_{snap_shot_date}.member_id\n",
    "WHERE buyer_intent_user_interactions.{cap_summary_time_filtered}_{snap_shot_date}.ldp_dominant_segment = 'for sale';\"\"\".format(**param_dict)"
   ]
  }
 ],
 "metadata": {
  "kernelspec": {
   "display_name": "conda_python3",
   "language": "python",
   "name": "conda_python3"
  },
  "language_info": {
   "codemirror_mode": {
    "name": "ipython",
    "version": 3
   },
   "file_extension": ".py",
   "mimetype": "text/x-python",
   "name": "python",
   "nbconvert_exporter": "python",
   "pygments_lexer": "ipython3",
   "version": "3.6.5"
  }
 },
 "nbformat": 4,
 "nbformat_minor": 4
}
