{
 "cells": [
  {
   "cell_type": "markdown",
   "metadata": {},
   "source": [
    "# Ranking Different Rule-Based Strategies for Buyer_Intent : \n",
    "## RULE_1(th_1, th_2) : consumer_score only\n",
    "\n",
    "**IF** *consumer_score_papability_to_transact < threshhold_1* **THEN** \n",
    "<br/>\n",
    "assign user stage as *CASUAL SEARCHER|DREAMER*\n",
    "<br/>\n",
    "**ELIF** *threshhold_1 < consumer_score_papability_to_transact <threshhold_2* **THEN** \n",
    "<br/>\n",
    "assign user stage as *ACTIVE SEARCHER*\n",
    "<br/>\n",
    "**ELSE** assign user stage as *READY_TO_TRANSACT*\n",
    "<br/>\n",
    "<br/>\n",
    "*Assumption : threshhold_1 < threshhold_2*"
   ]
  },
  {
   "cell_type": "code",
   "execution_count": 82,
   "metadata": {},
   "outputs": [
    {
     "name": "stdout",
     "output_type": "stream",
     "text": [
      "Requirement already satisfied: missingpy in /home/ec2-user/anaconda3/envs/python3/lib/python3.6/site-packages (0.2.0)\n",
      "\u001b[33mYou are using pip version 10.0.1, however version 19.2.3 is available.\n",
      "You should consider upgrading via the 'pip install --upgrade pip' command.\u001b[0m\n",
      "Requirement already satisfied: xgboost in /home/ec2-user/anaconda3/envs/python3/lib/python3.6/site-packages (0.90)\n",
      "Requirement already satisfied: numpy in /home/ec2-user/anaconda3/envs/python3/lib/python3.6/site-packages (from xgboost) (1.14.3)\n",
      "Requirement already satisfied: scipy in /home/ec2-user/anaconda3/envs/python3/lib/python3.6/site-packages (from xgboost) (1.1.0)\n",
      "\u001b[33mYou are using pip version 10.0.1, however version 19.2.3 is available.\n",
      "You should consider upgrading via the 'pip install --upgrade pip' command.\u001b[0m\n"
     ]
    }
   ],
   "source": [
    "%run bi_ml_utilities.ipynb "
   ]
  },
  {
   "cell_type": "code",
   "execution_count": 83,
   "metadata": {},
   "outputs": [
    {
     "name": "stdout",
     "output_type": "stream",
     "text": [
      "Iteration: 0\n",
      "Iteration: 1\n",
      "Iteration: 2\n",
      "Iteration: 3\n",
      "Iteration: 4\n"
     ]
    }
   ],
   "source": [
    "df_030 = pd.read_csv('filtered_intr_lead_trans_030.csv')\n",
    "bi_imp_rf_based_030 = BuyerIntentImputer.rforest_imputer(df_030.drop(columns=['member_id']))"
   ]
  },
  {
   "cell_type": "code",
   "execution_count": 84,
   "metadata": {},
   "outputs": [
    {
     "name": "stdout",
     "output_type": "stream",
     "text": [
      "th_1 = 0.2, th_2 = 0.4\n",
      "th_1 = 0.2, th_2 = 0.6\n",
      "th_1 = 0.2, th_2 = 0.8\n",
      "th_1 = 0.4, th_2 = 0.6\n",
      "th_1 = 0.4, th_2 = 0.8\n",
      "th_1 = 0.6, th_2 = 0.8\n"
     ]
    }
   ],
   "source": [
    "threshhold_1 = [0.2, 0.4, 0.6, 0.8]\n",
    "threshhold_2 = [0.2, 0.4, 0.6, 0.8]\n",
    "best_models_list = []\n",
    "no_rules = 0\n",
    "for th_1 in threshhold_1:\n",
    "    for th_2 in threshhold_2:\n",
    "        if th_1 < th_2 :\n",
    "            no_rules = no_rules + 1\n",
    "            print(\"th_1 = {}, th_2 = {}\".format(th_1, th_2))\n",
    "            tmp_bi_imp_rf_based_030 = BuyerIntentStageRuleEngine.rule_3_stages(bi_imp_rf_based_030,[th_1,th_2])\n",
    "            tmp_bi_imp_rf_based_030 = tmp_bi_imp_rf_based_030.drop(columns = ['consumer_score_probablity_to_transact'])\n",
    "            tmp_bi_imp_rf_based_030 = BuyerIntentDataSetBalancer.under_sampling(tmp_bi_imp_rf_based_030, 'buyer_stage')\n",
    "            res = BuyerIntentMLModels.buyer_intent_stage_classifiers_factory(tmp_bi_imp_rf_based_030, 10, full_display=False)\n",
    "            summary = (res, len(tmp_bi_imp_rf_based_030['buyer_stage'].unique()), th_1, th_2)\n",
    "            best_models_list.append(summary)"
   ]
  },
  {
   "cell_type": "code",
   "execution_count": 85,
   "metadata": {},
   "outputs": [
    {
     "name": "stdout",
     "output_type": "stream",
     "text": [
      "6\n"
     ]
    }
   ],
   "source": [
    "print(no_rules)"
   ]
  },
  {
   "cell_type": "code",
   "execution_count": 86,
   "metadata": {},
   "outputs": [
    {
     "name": "stdout",
     "output_type": "stream",
     "text": [
      "({'best_model': 'DT', 'accuracy': 0.8555555555555555, 'std': 0.10604136429592294}, 3, 0.2, 0.4)\n",
      "({'best_model': 'DT', 'accuracy': 0.8791588692997145, 'std': 0.09061940819250872}, 3, 0.2, 0.6)\n",
      "({'best_model': 'DT', 'accuracy': 0.7927755343248301, 'std': 0.10733798495486661}, 3, 0.4, 0.6)\n"
     ]
    }
   ],
   "source": [
    "#for item in best_models_list:\n",
    "#    if item[1]==3:\n",
    "#        print(item)"
   ]
  },
  {
   "cell_type": "markdown",
   "metadata": {},
   "source": [
    "# Summary:\n",
    "\n",
    "**Optimal** Tuned parameters :\n",
    "\n",
    "**IF** *consumer_score_papability_to_transact < 0.2* **THEN** \n",
    "<br/>\n",
    "assign user stage as *CASUAL SEARCHER|DREAMER*\n",
    "<br/>\n",
    "**ELIF** *0.2 < consumer_score_papability_to_transact <0.6* **THEN** \n",
    "<br/>\n",
    "assign user stage as *ACTIVE SEARCHER*\n",
    "<br/>\n",
    "**ELSE** assign user stage as *READY_TO_TRANSACT*\n",
    "<br/>\n",
    "<br/>\n",
    "\n",
    "best_model: RF, accuracy: 0.0.8791588692997145, std: 0.0.09061940819250872"
   ]
  },
  {
   "cell_type": "markdown",
   "metadata": {},
   "source": [
    "## RULE_2(th_1,th_2,th_3) : consumer_score only\n",
    "\n",
    "**IF** *consumer_score_papability_to_transact < threshhold_1* **THEN** \n",
    "<br/>\n",
    "assign user stage as DREAMER\n",
    "<br/>\n",
    "**ELIF** *threshhold_1 <= consumer_score_papability_to_transact <threshhold_2* **THEN** \n",
    "<br/>\n",
    "assign user stage as CASUAL SEARCHER\n",
    "<br/>\n",
    "**ELIF** *threshhold_2 <= consumer_score_papability_to_transact <threshhold_3* **THEN** \n",
    "<br/>\n",
    "assign user stage as ACTIVE SEARCHER\n",
    "<br/>\n",
    "**ELSE** assign user stage as READY TO TRANSACT\n",
    "<br/>\n",
    "<br/>\n",
    "*Assumption : threshhold_1 < threshhold_2 < threshhold_3*"
   ]
  },
  {
   "cell_type": "code",
   "execution_count": 87,
   "metadata": {},
   "outputs": [
    {
     "name": "stdout",
     "output_type": "stream",
     "text": [
      "th_1 = 0.2, th_2 = 0.4, th_3 = 0.6\n",
      "th_1 = 0.2, th_2 = 0.4, th_3 = 0.8\n",
      "th_1 = 0.2, th_2 = 0.6, th_3 = 0.8\n",
      "th_1 = 0.4, th_2 = 0.6, th_3 = 0.8\n"
     ]
    }
   ],
   "source": [
    "threshhold_1 = [0.2, 0.4, 0.6, 0.8]\n",
    "threshhold_2 = [0.2, 0.4, 0.6, 0.8]\n",
    "threshhold_3 = [0.2, 0.4, 0.6, 0.8]\n",
    "best_models_list = []\n",
    "for th_1 in threshhold_1:\n",
    "    for th_2 in threshhold_2:\n",
    "        for th_3 in threshhold_3:\n",
    "            if th_1 < th_2 and th_2 < th_3:\n",
    "                print(\"th_1 = {}, th_2 = {}, th_3 = {}\".format(th_1, th_2, th_3))\n",
    "                tmp_bi_imp_rf_based_030 = BuyerIntentStageRuleEngine.rule_4_stages(bi_imp_rf_based_030, [th_1,th_2,th_3])\n",
    "                tmp_bi_imp_rf_based_030 = tmp_bi_imp_rf_based_030.drop(columns = ['consumer_score_probablity_to_transact'])\n",
    "                tmp_bi_imp_rf_based_030 = BuyerIntentDataSetBalancer.under_sampling(tmp_bi_imp_rf_based_030, 'buyer_stage')\n",
    "                res = BuyerIntentMLModels.buyer_intent_stage_classifiers_factory(tmp_bi_imp_rf_based_030, 10, full_display=False)\n",
    "                summary = (res, len(tmp_bi_imp_rf_based_030['buyer_stage'].unique()), th_1, th_2, th_3)\n",
    "                best_models_list.append(summary)"
   ]
  },
  {
   "cell_type": "code",
   "execution_count": 88,
   "metadata": {},
   "outputs": [
    {
     "name": "stdout",
     "output_type": "stream",
     "text": [
      "({'best_model': 'DT', 'accuracy': 0.7934200310559006, 'std': 0.15897685307124085}, 4, 0.2, 0.4, 0.6)\n"
     ]
    }
   ],
   "source": [
    "for item in best_models_list:\n",
    "    if item[1]==4:\n",
    "        print(item)"
   ]
  },
  {
   "cell_type": "markdown",
   "metadata": {},
   "source": [
    "# Summary:\n",
    "\n",
    "**IF** *consumer_score_papability_to_transact < 0.2* **THEN** \n",
    "<br/>\n",
    "assign user stage as DREAMER\n",
    "<br/>\n",
    "**ELIF** *0.2 <= consumer_score_papability_to_transact <0.4* **THEN** \n",
    "<br/>\n",
    "assign user stage as CASUAL SEARCHER\n",
    "<br/>\n",
    "**ELIF** *0.4 <= consumer_score_papability_to_transact <0.6* **THEN** \n",
    "<br/>\n",
    "assign user stage as ACTIVE SEARCHER\n",
    "<br/>\n",
    "**ELSE** assign user stage as READY TO TRANSACT\n",
    "<br/>\n",
    "<br/>\n",
    "\n",
    "best_model = 'DT', 'accuracy': 0.7980210983091427, 'std': 0.0.152804917252273\n",
    "\n",
    "## Recomendation : The first rule works better than the second one"
   ]
  },
  {
   "cell_type": "markdown",
   "metadata": {},
   "source": [
    "## RULE_3 : RULE_3(no_saved_searches, no_lead_submission, consumer_score, s_th_1, s_th_2, s_th_3, l_th_1, l_th_2, l_th_3, c_th_1, c_th_2, c_th_3)"
   ]
  },
  {
   "cell_type": "code",
   "execution_count": 89,
   "metadata": {},
   "outputs": [
    {
     "name": "stdout",
     "output_type": "stream",
     "text": [
      "613.0\n"
     ]
    }
   ],
   "source": [
    "# Normalized total_saved_listings\n",
    "max_total_saved_listings = bi_imp_rf_based_030['total_saved_listings'].describe()['max']\n",
    "bi_imp_rf_based_030['total_saved_listings'] = bi_imp_rf_based_030['total_saved_listings']/max_total_saved_listings\n",
    "print(max_total_saved_listings)"
   ]
  },
  {
   "cell_type": "code",
   "execution_count": 90,
   "metadata": {},
   "outputs": [
    {
     "data": {
      "text/plain": [
       "<matplotlib.axes._subplots.AxesSubplot at 0x7f6f2465d278>"
      ]
     },
     "execution_count": 90,
     "metadata": {},
     "output_type": "execute_result"
    },
    {
     "data": {
      "image/png": "[encoded data removed]",
      "text/plain": [
       "<Figure size 432x288 with 1 Axes>"
      ]
     },
     "metadata": {},
     "output_type": "display_data"
    }
   ],
   "source": [
    "bi_imp_rf_based_030['total_saved_listings'].hist(bins=20)"
   ]
  },
  {
   "cell_type": "code",
   "execution_count": 91,
   "metadata": {},
   "outputs": [
    {
     "name": "stdout",
     "output_type": "stream",
     "text": [
      "73.0\n"
     ]
    }
   ],
   "source": [
    "max_total_leads_submitted = bi_imp_rf_based_030['total_leads_submitted'].describe()['max']\n",
    "bi_imp_rf_based_030['total_leads_submitted']=df_030['total_leads_submitted']/max_total_leads_submitted\n",
    "print(max_total_leads_submitted)"
   ]
  },
  {
   "cell_type": "code",
   "execution_count": 92,
   "metadata": {},
   "outputs": [
    {
     "data": {
      "text/plain": [
       "<matplotlib.axes._subplots.AxesSubplot at 0x7f6f24581080>"
      ]
     },
     "execution_count": 92,
     "metadata": {},
     "output_type": "execute_result"
    },
    {
     "data": {
      "image/png": "[encoded data removed]",
      "text/plain": [
       "<Figure size 432x288 with 1 Axes>"
      ]
     },
     "metadata": {},
     "output_type": "display_data"
    }
   ],
   "source": [
    "bi_imp_rf_based_030['total_leads_submitted'].hist(bins = 20)"
   ]
  },
  {
   "cell_type": "code",
   "execution_count": 95,
   "metadata": {},
   "outputs": [
    {
     "name": "stdout",
     "output_type": "stream",
     "text": [
      "total_saved_listings_interval = [0.2, 0.4], total_leads_submitted_interval = [0.2, 0.4], consumer_score_probablity_to_transact_interval = [0.2, 0.4]\n",
      "total_saved_listings_interval = [0.2, 0.4], total_leads_submitted_interval = [0.2, 0.4], consumer_score_probablity_to_transact_interval = [0.2, 0.6]\n",
      "total_saved_listings_interval = [0.2, 0.4], total_leads_submitted_interval = [0.2, 0.4], consumer_score_probablity_to_transact_interval = [0.2, 0.8]\n",
      "total_saved_listings_interval = [0.2, 0.4], total_leads_submitted_interval = [0.2, 0.4], consumer_score_probablity_to_transact_interval = [0.4, 0.6]\n",
      "total_saved_listings_interval = [0.2, 0.4], total_leads_submitted_interval = [0.2, 0.4], consumer_score_probablity_to_transact_interval = [0.4, 0.8]\n",
      "total_saved_listings_interval = [0.2, 0.4], total_leads_submitted_interval = [0.2, 0.4], consumer_score_probablity_to_transact_interval = [0.6, 0.8]\n",
      "total_saved_listings_interval = [0.2, 0.4], total_leads_submitted_interval = [0.2, 0.6], consumer_score_probablity_to_transact_interval = [0.2, 0.4]\n",
      "total_saved_listings_interval = [0.2, 0.4], total_leads_submitted_interval = [0.2, 0.6], consumer_score_probablity_to_transact_interval = [0.2, 0.6]\n",
      "total_saved_listings_interval = [0.2, 0.4], total_leads_submitted_interval = [0.2, 0.6], consumer_score_probablity_to_transact_interval = [0.2, 0.8]\n",
      "total_saved_listings_interval = [0.2, 0.4], total_leads_submitted_interval = [0.2, 0.6], consumer_score_probablity_to_transact_interval = [0.4, 0.6]\n",
      "total_saved_listings_interval = [0.2, 0.4], total_leads_submitted_interval = [0.2, 0.6], consumer_score_probablity_to_transact_interval = [0.4, 0.8]\n",
      "total_saved_listings_interval = [0.2, 0.4], total_leads_submitted_interval = [0.2, 0.6], consumer_score_probablity_to_transact_interval = [0.6, 0.8]\n",
      "total_saved_listings_interval = [0.2, 0.4], total_leads_submitted_interval = [0.2, 0.8], consumer_score_probablity_to_transact_interval = [0.2, 0.4]\n",
      "total_saved_listings_interval = [0.2, 0.4], total_leads_submitted_interval = [0.2, 0.8], consumer_score_probablity_to_transact_interval = [0.2, 0.6]\n",
      "total_saved_listings_interval = [0.2, 0.4], total_leads_submitted_interval = [0.2, 0.8], consumer_score_probablity_to_transact_interval = [0.2, 0.8]\n",
      "total_saved_listings_interval = [0.2, 0.4], total_leads_submitted_interval = [0.2, 0.8], consumer_score_probablity_to_transact_interval = [0.4, 0.6]\n",
      "total_saved_listings_interval = [0.2, 0.4], total_leads_submitted_interval = [0.2, 0.8], consumer_score_probablity_to_transact_interval = [0.4, 0.8]\n",
      "total_saved_listings_interval = [0.2, 0.4], total_leads_submitted_interval = [0.2, 0.8], consumer_score_probablity_to_transact_interval = [0.6, 0.8]\n",
      "total_saved_listings_interval = [0.2, 0.4], total_leads_submitted_interval = [0.4, 0.6], consumer_score_probablity_to_transact_interval = [0.2, 0.4]\n",
      "total_saved_listings_interval = [0.2, 0.4], total_leads_submitted_interval = [0.4, 0.6], consumer_score_probablity_to_transact_interval = [0.2, 0.6]\n",
      "total_saved_listings_interval = [0.2, 0.4], total_leads_submitted_interval = [0.4, 0.6], consumer_score_probablity_to_transact_interval = [0.2, 0.8]\n",
      "total_saved_listings_interval = [0.2, 0.4], total_leads_submitted_interval = [0.4, 0.6], consumer_score_probablity_to_transact_interval = [0.4, 0.6]\n",
      "total_saved_listings_interval = [0.2, 0.4], total_leads_submitted_interval = [0.4, 0.6], consumer_score_probablity_to_transact_interval = [0.4, 0.8]\n",
      "total_saved_listings_interval = [0.2, 0.4], total_leads_submitted_interval = [0.4, 0.6], consumer_score_probablity_to_transact_interval = [0.6, 0.8]\n",
      "total_saved_listings_interval = [0.2, 0.4], total_leads_submitted_interval = [0.4, 0.8], consumer_score_probablity_to_transact_interval = [0.2, 0.4]\n",
      "total_saved_listings_interval = [0.2, 0.4], total_leads_submitted_interval = [0.4, 0.8], consumer_score_probablity_to_transact_interval = [0.2, 0.6]\n",
      "total_saved_listings_interval = [0.2, 0.4], total_leads_submitted_interval = [0.4, 0.8], consumer_score_probablity_to_transact_interval = [0.2, 0.8]\n",
      "total_saved_listings_interval = [0.2, 0.4], total_leads_submitted_interval = [0.4, 0.8], consumer_score_probablity_to_transact_interval = [0.4, 0.6]\n",
      "total_saved_listings_interval = [0.2, 0.4], total_leads_submitted_interval = [0.4, 0.8], consumer_score_probablity_to_transact_interval = [0.4, 0.8]\n",
      "total_saved_listings_interval = [0.2, 0.4], total_leads_submitted_interval = [0.4, 0.8], consumer_score_probablity_to_transact_interval = [0.6, 0.8]\n",
      "total_saved_listings_interval = [0.2, 0.4], total_leads_submitted_interval = [0.6, 0.8], consumer_score_probablity_to_transact_interval = [0.2, 0.4]\n",
      "total_saved_listings_interval = [0.2, 0.4], total_leads_submitted_interval = [0.6, 0.8], consumer_score_probablity_to_transact_interval = [0.2, 0.6]\n",
      "total_saved_listings_interval = [0.2, 0.4], total_leads_submitted_interval = [0.6, 0.8], consumer_score_probablity_to_transact_interval = [0.2, 0.8]\n",
      "total_saved_listings_interval = [0.2, 0.4], total_leads_submitted_interval = [0.6, 0.8], consumer_score_probablity_to_transact_interval = [0.4, 0.6]\n",
      "total_saved_listings_interval = [0.2, 0.4], total_leads_submitted_interval = [0.6, 0.8], consumer_score_probablity_to_transact_interval = [0.4, 0.8]\n",
      "total_saved_listings_interval = [0.2, 0.4], total_leads_submitted_interval = [0.6, 0.8], consumer_score_probablity_to_transact_interval = [0.6, 0.8]\n",
      "total_saved_listings_interval = [0.2, 0.6], total_leads_submitted_interval = [0.2, 0.4], consumer_score_probablity_to_transact_interval = [0.2, 0.4]\n",
      "total_saved_listings_interval = [0.2, 0.6], total_leads_submitted_interval = [0.2, 0.4], consumer_score_probablity_to_transact_interval = [0.2, 0.6]\n",
      "total_saved_listings_interval = [0.2, 0.6], total_leads_submitted_interval = [0.2, 0.4], consumer_score_probablity_to_transact_interval = [0.2, 0.8]\n",
      "total_saved_listings_interval = [0.2, 0.6], total_leads_submitted_interval = [0.2, 0.4], consumer_score_probablity_to_transact_interval = [0.4, 0.6]\n",
      "total_saved_listings_interval = [0.2, 0.6], total_leads_submitted_interval = [0.2, 0.4], consumer_score_probablity_to_transact_interval = [0.4, 0.8]\n",
      "total_saved_listings_interval = [0.2, 0.6], total_leads_submitted_interval = [0.2, 0.4], consumer_score_probablity_to_transact_interval = [0.6, 0.8]\n",
      "total_saved_listings_interval = [0.2, 0.6], total_leads_submitted_interval = [0.2, 0.6], consumer_score_probablity_to_transact_interval = [0.2, 0.4]\n",
      "total_saved_listings_interval = [0.2, 0.6], total_leads_submitted_interval = [0.2, 0.6], consumer_score_probablity_to_transact_interval = [0.2, 0.6]\n",
      "total_saved_listings_interval = [0.2, 0.6], total_leads_submitted_interval = [0.2, 0.6], consumer_score_probablity_to_transact_interval = [0.2, 0.8]\n",
      "total_saved_listings_interval = [0.2, 0.6], total_leads_submitted_interval = [0.2, 0.6], consumer_score_probablity_to_transact_interval = [0.4, 0.6]\n",
      "total_saved_listings_interval = [0.2, 0.6], total_leads_submitted_interval = [0.2, 0.6], consumer_score_probablity_to_transact_interval = [0.4, 0.8]\n",
      "total_saved_listings_interval = [0.2, 0.6], total_leads_submitted_interval = [0.2, 0.6], consumer_score_probablity_to_transact_interval = [0.6, 0.8]\n",
      "total_saved_listings_interval = [0.2, 0.6], total_leads_submitted_interval = [0.2, 0.8], consumer_score_probablity_to_transact_interval = [0.2, 0.4]\n",
      "total_saved_listings_interval = [0.2, 0.6], total_leads_submitted_interval = [0.2, 0.8], consumer_score_probablity_to_transact_interval = [0.2, 0.6]\n",
      "total_saved_listings_interval = [0.2, 0.6], total_leads_submitted_interval = [0.2, 0.8], consumer_score_probablity_to_transact_interval = [0.2, 0.8]\n",
      "total_saved_listings_interval = [0.2, 0.6], total_leads_submitted_interval = [0.2, 0.8], consumer_score_probablity_to_transact_interval = [0.4, 0.6]\n",
      "total_saved_listings_interval = [0.2, 0.6], total_leads_submitted_interval = [0.2, 0.8], consumer_score_probablity_to_transact_interval = [0.4, 0.8]\n",
      "total_saved_listings_interval = [0.2, 0.6], total_leads_submitted_interval = [0.2, 0.8], consumer_score_probablity_to_transact_interval = [0.6, 0.8]\n",
      "total_saved_listings_interval = [0.2, 0.6], total_leads_submitted_interval = [0.4, 0.6], consumer_score_probablity_to_transact_interval = [0.2, 0.4]\n",
      "total_saved_listings_interval = [0.2, 0.6], total_leads_submitted_interval = [0.4, 0.6], consumer_score_probablity_to_transact_interval = [0.2, 0.6]\n",
      "total_saved_listings_interval = [0.2, 0.6], total_leads_submitted_interval = [0.4, 0.6], consumer_score_probablity_to_transact_interval = [0.2, 0.8]\n",
      "total_saved_listings_interval = [0.2, 0.6], total_leads_submitted_interval = [0.4, 0.6], consumer_score_probablity_to_transact_interval = [0.4, 0.6]\n",
      "total_saved_listings_interval = [0.2, 0.6], total_leads_submitted_interval = [0.4, 0.6], consumer_score_probablity_to_transact_interval = [0.4, 0.8]\n",
      "total_saved_listings_interval = [0.2, 0.6], total_leads_submitted_interval = [0.4, 0.6], consumer_score_probablity_to_transact_interval = [0.6, 0.8]\n",
      "total_saved_listings_interval = [0.2, 0.6], total_leads_submitted_interval = [0.4, 0.8], consumer_score_probablity_to_transact_interval = [0.2, 0.4]\n",
      "total_saved_listings_interval = [0.2, 0.6], total_leads_submitted_interval = [0.4, 0.8], consumer_score_probablity_to_transact_interval = [0.2, 0.6]\n",
      "total_saved_listings_interval = [0.2, 0.6], total_leads_submitted_interval = [0.4, 0.8], consumer_score_probablity_to_transact_interval = [0.2, 0.8]\n",
      "total_saved_listings_interval = [0.2, 0.6], total_leads_submitted_interval = [0.4, 0.8], consumer_score_probablity_to_transact_interval = [0.4, 0.6]\n",
      "total_saved_listings_interval = [0.2, 0.6], total_leads_submitted_interval = [0.4, 0.8], consumer_score_probablity_to_transact_interval = [0.4, 0.8]\n",
      "total_saved_listings_interval = [0.2, 0.6], total_leads_submitted_interval = [0.4, 0.8], consumer_score_probablity_to_transact_interval = [0.6, 0.8]\n",
      "total_saved_listings_interval = [0.2, 0.6], total_leads_submitted_interval = [0.6, 0.8], consumer_score_probablity_to_transact_interval = [0.2, 0.4]\n",
      "total_saved_listings_interval = [0.2, 0.6], total_leads_submitted_interval = [0.6, 0.8], consumer_score_probablity_to_transact_interval = [0.2, 0.6]\n",
      "total_saved_listings_interval = [0.2, 0.6], total_leads_submitted_interval = [0.6, 0.8], consumer_score_probablity_to_transact_interval = [0.2, 0.8]\n",
      "total_saved_listings_interval = [0.2, 0.6], total_leads_submitted_interval = [0.6, 0.8], consumer_score_probablity_to_transact_interval = [0.4, 0.6]\n",
      "total_saved_listings_interval = [0.2, 0.6], total_leads_submitted_interval = [0.6, 0.8], consumer_score_probablity_to_transact_interval = [0.4, 0.8]\n",
      "total_saved_listings_interval = [0.2, 0.6], total_leads_submitted_interval = [0.6, 0.8], consumer_score_probablity_to_transact_interval = [0.6, 0.8]\n",
      "total_saved_listings_interval = [0.2, 0.8], total_leads_submitted_interval = [0.2, 0.4], consumer_score_probablity_to_transact_interval = [0.2, 0.4]\n",
      "total_saved_listings_interval = [0.2, 0.8], total_leads_submitted_interval = [0.2, 0.4], consumer_score_probablity_to_transact_interval = [0.2, 0.6]\n",
      "total_saved_listings_interval = [0.2, 0.8], total_leads_submitted_interval = [0.2, 0.4], consumer_score_probablity_to_transact_interval = [0.2, 0.8]\n",
      "total_saved_listings_interval = [0.2, 0.8], total_leads_submitted_interval = [0.2, 0.4], consumer_score_probablity_to_transact_interval = [0.4, 0.6]\n",
      "total_saved_listings_interval = [0.2, 0.8], total_leads_submitted_interval = [0.2, 0.4], consumer_score_probablity_to_transact_interval = [0.4, 0.8]\n",
      "total_saved_listings_interval = [0.2, 0.8], total_leads_submitted_interval = [0.2, 0.4], consumer_score_probablity_to_transact_interval = [0.6, 0.8]\n",
      "total_saved_listings_interval = [0.2, 0.8], total_leads_submitted_interval = [0.2, 0.6], consumer_score_probablity_to_transact_interval = [0.2, 0.4]\n",
      "total_saved_listings_interval = [0.2, 0.8], total_leads_submitted_interval = [0.2, 0.6], consumer_score_probablity_to_transact_interval = [0.2, 0.6]\n",
      "total_saved_listings_interval = [0.2, 0.8], total_leads_submitted_interval = [0.2, 0.6], consumer_score_probablity_to_transact_interval = [0.2, 0.8]\n",
      "total_saved_listings_interval = [0.2, 0.8], total_leads_submitted_interval = [0.2, 0.6], consumer_score_probablity_to_transact_interval = [0.4, 0.6]\n",
      "total_saved_listings_interval = [0.2, 0.8], total_leads_submitted_interval = [0.2, 0.6], consumer_score_probablity_to_transact_interval = [0.4, 0.8]\n",
      "total_saved_listings_interval = [0.2, 0.8], total_leads_submitted_interval = [0.2, 0.6], consumer_score_probablity_to_transact_interval = [0.6, 0.8]\n",
      "total_saved_listings_interval = [0.2, 0.8], total_leads_submitted_interval = [0.2, 0.8], consumer_score_probablity_to_transact_interval = [0.2, 0.4]\n",
      "total_saved_listings_interval = [0.2, 0.8], total_leads_submitted_interval = [0.2, 0.8], consumer_score_probablity_to_transact_interval = [0.2, 0.6]\n",
      "total_saved_listings_interval = [0.2, 0.8], total_leads_submitted_interval = [0.2, 0.8], consumer_score_probablity_to_transact_interval = [0.2, 0.8]\n",
      "total_saved_listings_interval = [0.2, 0.8], total_leads_submitted_interval = [0.2, 0.8], consumer_score_probablity_to_transact_interval = [0.4, 0.6]\n",
      "total_saved_listings_interval = [0.2, 0.8], total_leads_submitted_interval = [0.2, 0.8], consumer_score_probablity_to_transact_interval = [0.4, 0.8]\n",
      "total_saved_listings_interval = [0.2, 0.8], total_leads_submitted_interval = [0.2, 0.8], consumer_score_probablity_to_transact_interval = [0.6, 0.8]\n",
      "total_saved_listings_interval = [0.2, 0.8], total_leads_submitted_interval = [0.4, 0.6], consumer_score_probablity_to_transact_interval = [0.2, 0.4]\n",
      "total_saved_listings_interval = [0.2, 0.8], total_leads_submitted_interval = [0.4, 0.6], consumer_score_probablity_to_transact_interval = [0.2, 0.6]\n",
      "total_saved_listings_interval = [0.2, 0.8], total_leads_submitted_interval = [0.4, 0.6], consumer_score_probablity_to_transact_interval = [0.2, 0.8]\n",
      "total_saved_listings_interval = [0.2, 0.8], total_leads_submitted_interval = [0.4, 0.6], consumer_score_probablity_to_transact_interval = [0.4, 0.6]\n",
      "total_saved_listings_interval = [0.2, 0.8], total_leads_submitted_interval = [0.4, 0.6], consumer_score_probablity_to_transact_interval = [0.4, 0.8]\n",
      "total_saved_listings_interval = [0.2, 0.8], total_leads_submitted_interval = [0.4, 0.6], consumer_score_probablity_to_transact_interval = [0.6, 0.8]\n",
      "total_saved_listings_interval = [0.2, 0.8], total_leads_submitted_interval = [0.4, 0.8], consumer_score_probablity_to_transact_interval = [0.2, 0.4]\n",
      "total_saved_listings_interval = [0.2, 0.8], total_leads_submitted_interval = [0.4, 0.8], consumer_score_probablity_to_transact_interval = [0.2, 0.6]\n",
      "total_saved_listings_interval = [0.2, 0.8], total_leads_submitted_interval = [0.4, 0.8], consumer_score_probablity_to_transact_interval = [0.2, 0.8]\n",
      "total_saved_listings_interval = [0.2, 0.8], total_leads_submitted_interval = [0.4, 0.8], consumer_score_probablity_to_transact_interval = [0.4, 0.6]\n",
      "total_saved_listings_interval = [0.2, 0.8], total_leads_submitted_interval = [0.4, 0.8], consumer_score_probablity_to_transact_interval = [0.4, 0.8]\n",
      "total_saved_listings_interval = [0.2, 0.8], total_leads_submitted_interval = [0.4, 0.8], consumer_score_probablity_to_transact_interval = [0.6, 0.8]\n",
      "total_saved_listings_interval = [0.2, 0.8], total_leads_submitted_interval = [0.6, 0.8], consumer_score_probablity_to_transact_interval = [0.2, 0.4]\n",
      "total_saved_listings_interval = [0.2, 0.8], total_leads_submitted_interval = [0.6, 0.8], consumer_score_probablity_to_transact_interval = [0.2, 0.6]\n",
      "total_saved_listings_interval = [0.2, 0.8], total_leads_submitted_interval = [0.6, 0.8], consumer_score_probablity_to_transact_interval = [0.2, 0.8]\n",
      "total_saved_listings_interval = [0.2, 0.8], total_leads_submitted_interval = [0.6, 0.8], consumer_score_probablity_to_transact_interval = [0.4, 0.6]\n",
      "total_saved_listings_interval = [0.2, 0.8], total_leads_submitted_interval = [0.6, 0.8], consumer_score_probablity_to_transact_interval = [0.4, 0.8]\n",
      "total_saved_listings_interval = [0.2, 0.8], total_leads_submitted_interval = [0.6, 0.8], consumer_score_probablity_to_transact_interval = [0.6, 0.8]\n",
      "total_saved_listings_interval = [0.4, 0.6], total_leads_submitted_interval = [0.2, 0.4], consumer_score_probablity_to_transact_interval = [0.2, 0.4]\n",
      "total_saved_listings_interval = [0.4, 0.6], total_leads_submitted_interval = [0.2, 0.4], consumer_score_probablity_to_transact_interval = [0.2, 0.6]\n",
      "total_saved_listings_interval = [0.4, 0.6], total_leads_submitted_interval = [0.2, 0.4], consumer_score_probablity_to_transact_interval = [0.2, 0.8]\n",
      "total_saved_listings_interval = [0.4, 0.6], total_leads_submitted_interval = [0.2, 0.4], consumer_score_probablity_to_transact_interval = [0.4, 0.6]\n",
      "total_saved_listings_interval = [0.4, 0.6], total_leads_submitted_interval = [0.2, 0.4], consumer_score_probablity_to_transact_interval = [0.4, 0.8]\n",
      "total_saved_listings_interval = [0.4, 0.6], total_leads_submitted_interval = [0.2, 0.4], consumer_score_probablity_to_transact_interval = [0.6, 0.8]\n",
      "total_saved_listings_interval = [0.4, 0.6], total_leads_submitted_interval = [0.2, 0.6], consumer_score_probablity_to_transact_interval = [0.2, 0.4]\n",
      "total_saved_listings_interval = [0.4, 0.6], total_leads_submitted_interval = [0.2, 0.6], consumer_score_probablity_to_transact_interval = [0.2, 0.6]\n",
      "total_saved_listings_interval = [0.4, 0.6], total_leads_submitted_interval = [0.2, 0.6], consumer_score_probablity_to_transact_interval = [0.2, 0.8]\n",
      "total_saved_listings_interval = [0.4, 0.6], total_leads_submitted_interval = [0.2, 0.6], consumer_score_probablity_to_transact_interval = [0.4, 0.6]\n",
      "total_saved_listings_interval = [0.4, 0.6], total_leads_submitted_interval = [0.2, 0.6], consumer_score_probablity_to_transact_interval = [0.4, 0.8]\n",
      "total_saved_listings_interval = [0.4, 0.6], total_leads_submitted_interval = [0.2, 0.6], consumer_score_probablity_to_transact_interval = [0.6, 0.8]\n",
      "total_saved_listings_interval = [0.4, 0.6], total_leads_submitted_interval = [0.2, 0.8], consumer_score_probablity_to_transact_interval = [0.2, 0.4]\n",
      "total_saved_listings_interval = [0.4, 0.6], total_leads_submitted_interval = [0.2, 0.8], consumer_score_probablity_to_transact_interval = [0.2, 0.6]\n",
      "total_saved_listings_interval = [0.4, 0.6], total_leads_submitted_interval = [0.2, 0.8], consumer_score_probablity_to_transact_interval = [0.2, 0.8]\n",
      "total_saved_listings_interval = [0.4, 0.6], total_leads_submitted_interval = [0.2, 0.8], consumer_score_probablity_to_transact_interval = [0.4, 0.6]\n",
      "total_saved_listings_interval = [0.4, 0.6], total_leads_submitted_interval = [0.2, 0.8], consumer_score_probablity_to_transact_interval = [0.4, 0.8]\n",
      "total_saved_listings_interval = [0.4, 0.6], total_leads_submitted_interval = [0.2, 0.8], consumer_score_probablity_to_transact_interval = [0.6, 0.8]\n",
      "total_saved_listings_interval = [0.4, 0.6], total_leads_submitted_interval = [0.4, 0.6], consumer_score_probablity_to_transact_interval = [0.2, 0.4]\n",
      "total_saved_listings_interval = [0.4, 0.6], total_leads_submitted_interval = [0.4, 0.6], consumer_score_probablity_to_transact_interval = [0.2, 0.6]\n",
      "total_saved_listings_interval = [0.4, 0.6], total_leads_submitted_interval = [0.4, 0.6], consumer_score_probablity_to_transact_interval = [0.2, 0.8]\n",
      "total_saved_listings_interval = [0.4, 0.6], total_leads_submitted_interval = [0.4, 0.6], consumer_score_probablity_to_transact_interval = [0.4, 0.6]\n",
      "total_saved_listings_interval = [0.4, 0.6], total_leads_submitted_interval = [0.4, 0.6], consumer_score_probablity_to_transact_interval = [0.4, 0.8]\n",
      "total_saved_listings_interval = [0.4, 0.6], total_leads_submitted_interval = [0.4, 0.6], consumer_score_probablity_to_transact_interval = [0.6, 0.8]\n",
      "total_saved_listings_interval = [0.4, 0.6], total_leads_submitted_interval = [0.4, 0.8], consumer_score_probablity_to_transact_interval = [0.2, 0.4]\n",
      "total_saved_listings_interval = [0.4, 0.6], total_leads_submitted_interval = [0.4, 0.8], consumer_score_probablity_to_transact_interval = [0.2, 0.6]\n",
      "total_saved_listings_interval = [0.4, 0.6], total_leads_submitted_interval = [0.4, 0.8], consumer_score_probablity_to_transact_interval = [0.2, 0.8]\n",
      "total_saved_listings_interval = [0.4, 0.6], total_leads_submitted_interval = [0.4, 0.8], consumer_score_probablity_to_transact_interval = [0.4, 0.6]\n",
      "total_saved_listings_interval = [0.4, 0.6], total_leads_submitted_interval = [0.4, 0.8], consumer_score_probablity_to_transact_interval = [0.4, 0.8]\n",
      "total_saved_listings_interval = [0.4, 0.6], total_leads_submitted_interval = [0.4, 0.8], consumer_score_probablity_to_transact_interval = [0.6, 0.8]\n",
      "total_saved_listings_interval = [0.4, 0.6], total_leads_submitted_interval = [0.6, 0.8], consumer_score_probablity_to_transact_interval = [0.2, 0.4]\n",
      "total_saved_listings_interval = [0.4, 0.6], total_leads_submitted_interval = [0.6, 0.8], consumer_score_probablity_to_transact_interval = [0.2, 0.6]\n",
      "total_saved_listings_interval = [0.4, 0.6], total_leads_submitted_interval = [0.6, 0.8], consumer_score_probablity_to_transact_interval = [0.2, 0.8]\n",
      "total_saved_listings_interval = [0.4, 0.6], total_leads_submitted_interval = [0.6, 0.8], consumer_score_probablity_to_transact_interval = [0.4, 0.6]\n",
      "total_saved_listings_interval = [0.4, 0.6], total_leads_submitted_interval = [0.6, 0.8], consumer_score_probablity_to_transact_interval = [0.4, 0.8]\n",
      "total_saved_listings_interval = [0.4, 0.6], total_leads_submitted_interval = [0.6, 0.8], consumer_score_probablity_to_transact_interval = [0.6, 0.8]\n",
      "total_saved_listings_interval = [0.4, 0.8], total_leads_submitted_interval = [0.2, 0.4], consumer_score_probablity_to_transact_interval = [0.2, 0.4]\n",
      "total_saved_listings_interval = [0.4, 0.8], total_leads_submitted_interval = [0.2, 0.4], consumer_score_probablity_to_transact_interval = [0.2, 0.6]\n",
      "total_saved_listings_interval = [0.4, 0.8], total_leads_submitted_interval = [0.2, 0.4], consumer_score_probablity_to_transact_interval = [0.2, 0.8]\n",
      "total_saved_listings_interval = [0.4, 0.8], total_leads_submitted_interval = [0.2, 0.4], consumer_score_probablity_to_transact_interval = [0.4, 0.6]\n",
      "total_saved_listings_interval = [0.4, 0.8], total_leads_submitted_interval = [0.2, 0.4], consumer_score_probablity_to_transact_interval = [0.4, 0.8]\n",
      "total_saved_listings_interval = [0.4, 0.8], total_leads_submitted_interval = [0.2, 0.4], consumer_score_probablity_to_transact_interval = [0.6, 0.8]\n",
      "total_saved_listings_interval = [0.4, 0.8], total_leads_submitted_interval = [0.2, 0.6], consumer_score_probablity_to_transact_interval = [0.2, 0.4]\n",
      "total_saved_listings_interval = [0.4, 0.8], total_leads_submitted_interval = [0.2, 0.6], consumer_score_probablity_to_transact_interval = [0.2, 0.6]\n",
      "total_saved_listings_interval = [0.4, 0.8], total_leads_submitted_interval = [0.2, 0.6], consumer_score_probablity_to_transact_interval = [0.2, 0.8]\n",
      "total_saved_listings_interval = [0.4, 0.8], total_leads_submitted_interval = [0.2, 0.6], consumer_score_probablity_to_transact_interval = [0.4, 0.6]\n",
      "total_saved_listings_interval = [0.4, 0.8], total_leads_submitted_interval = [0.2, 0.6], consumer_score_probablity_to_transact_interval = [0.4, 0.8]\n",
      "total_saved_listings_interval = [0.4, 0.8], total_leads_submitted_interval = [0.2, 0.6], consumer_score_probablity_to_transact_interval = [0.6, 0.8]\n",
      "total_saved_listings_interval = [0.4, 0.8], total_leads_submitted_interval = [0.2, 0.8], consumer_score_probablity_to_transact_interval = [0.2, 0.4]\n",
      "total_saved_listings_interval = [0.4, 0.8], total_leads_submitted_interval = [0.2, 0.8], consumer_score_probablity_to_transact_interval = [0.2, 0.6]\n",
      "total_saved_listings_interval = [0.4, 0.8], total_leads_submitted_interval = [0.2, 0.8], consumer_score_probablity_to_transact_interval = [0.2, 0.8]\n",
      "total_saved_listings_interval = [0.4, 0.8], total_leads_submitted_interval = [0.2, 0.8], consumer_score_probablity_to_transact_interval = [0.4, 0.6]\n",
      "total_saved_listings_interval = [0.4, 0.8], total_leads_submitted_interval = [0.2, 0.8], consumer_score_probablity_to_transact_interval = [0.4, 0.8]\n",
      "total_saved_listings_interval = [0.4, 0.8], total_leads_submitted_interval = [0.2, 0.8], consumer_score_probablity_to_transact_interval = [0.6, 0.8]\n",
      "total_saved_listings_interval = [0.4, 0.8], total_leads_submitted_interval = [0.4, 0.6], consumer_score_probablity_to_transact_interval = [0.2, 0.4]\n",
      "total_saved_listings_interval = [0.4, 0.8], total_leads_submitted_interval = [0.4, 0.6], consumer_score_probablity_to_transact_interval = [0.2, 0.6]\n",
      "total_saved_listings_interval = [0.4, 0.8], total_leads_submitted_interval = [0.4, 0.6], consumer_score_probablity_to_transact_interval = [0.2, 0.8]\n",
      "total_saved_listings_interval = [0.4, 0.8], total_leads_submitted_interval = [0.4, 0.6], consumer_score_probablity_to_transact_interval = [0.4, 0.6]\n",
      "total_saved_listings_interval = [0.4, 0.8], total_leads_submitted_interval = [0.4, 0.6], consumer_score_probablity_to_transact_interval = [0.4, 0.8]\n",
      "total_saved_listings_interval = [0.4, 0.8], total_leads_submitted_interval = [0.4, 0.6], consumer_score_probablity_to_transact_interval = [0.6, 0.8]\n",
      "total_saved_listings_interval = [0.4, 0.8], total_leads_submitted_interval = [0.4, 0.8], consumer_score_probablity_to_transact_interval = [0.2, 0.4]\n",
      "total_saved_listings_interval = [0.4, 0.8], total_leads_submitted_interval = [0.4, 0.8], consumer_score_probablity_to_transact_interval = [0.2, 0.6]\n",
      "total_saved_listings_interval = [0.4, 0.8], total_leads_submitted_interval = [0.4, 0.8], consumer_score_probablity_to_transact_interval = [0.2, 0.8]\n",
      "total_saved_listings_interval = [0.4, 0.8], total_leads_submitted_interval = [0.4, 0.8], consumer_score_probablity_to_transact_interval = [0.4, 0.6]\n",
      "total_saved_listings_interval = [0.4, 0.8], total_leads_submitted_interval = [0.4, 0.8], consumer_score_probablity_to_transact_interval = [0.4, 0.8]\n",
      "total_saved_listings_interval = [0.4, 0.8], total_leads_submitted_interval = [0.4, 0.8], consumer_score_probablity_to_transact_interval = [0.6, 0.8]\n",
      "total_saved_listings_interval = [0.4, 0.8], total_leads_submitted_interval = [0.6, 0.8], consumer_score_probablity_to_transact_interval = [0.2, 0.4]\n",
      "total_saved_listings_interval = [0.4, 0.8], total_leads_submitted_interval = [0.6, 0.8], consumer_score_probablity_to_transact_interval = [0.2, 0.6]\n",
      "total_saved_listings_interval = [0.4, 0.8], total_leads_submitted_interval = [0.6, 0.8], consumer_score_probablity_to_transact_interval = [0.2, 0.8]\n",
      "total_saved_listings_interval = [0.4, 0.8], total_leads_submitted_interval = [0.6, 0.8], consumer_score_probablity_to_transact_interval = [0.4, 0.6]\n",
      "total_saved_listings_interval = [0.4, 0.8], total_leads_submitted_interval = [0.6, 0.8], consumer_score_probablity_to_transact_interval = [0.4, 0.8]\n",
      "total_saved_listings_interval = [0.4, 0.8], total_leads_submitted_interval = [0.6, 0.8], consumer_score_probablity_to_transact_interval = [0.6, 0.8]\n",
      "total_saved_listings_interval = [0.6, 0.8], total_leads_submitted_interval = [0.2, 0.4], consumer_score_probablity_to_transact_interval = [0.2, 0.4]\n",
      "total_saved_listings_interval = [0.6, 0.8], total_leads_submitted_interval = [0.2, 0.4], consumer_score_probablity_to_transact_interval = [0.2, 0.6]\n",
      "total_saved_listings_interval = [0.6, 0.8], total_leads_submitted_interval = [0.2, 0.4], consumer_score_probablity_to_transact_interval = [0.2, 0.8]\n",
      "total_saved_listings_interval = [0.6, 0.8], total_leads_submitted_interval = [0.2, 0.4], consumer_score_probablity_to_transact_interval = [0.4, 0.6]\n",
      "total_saved_listings_interval = [0.6, 0.8], total_leads_submitted_interval = [0.2, 0.4], consumer_score_probablity_to_transact_interval = [0.4, 0.8]\n",
      "total_saved_listings_interval = [0.6, 0.8], total_leads_submitted_interval = [0.2, 0.4], consumer_score_probablity_to_transact_interval = [0.6, 0.8]\n",
      "total_saved_listings_interval = [0.6, 0.8], total_leads_submitted_interval = [0.2, 0.6], consumer_score_probablity_to_transact_interval = [0.2, 0.4]\n",
      "total_saved_listings_interval = [0.6, 0.8], total_leads_submitted_interval = [0.2, 0.6], consumer_score_probablity_to_transact_interval = [0.2, 0.6]\n",
      "total_saved_listings_interval = [0.6, 0.8], total_leads_submitted_interval = [0.2, 0.6], consumer_score_probablity_to_transact_interval = [0.2, 0.8]\n",
      "total_saved_listings_interval = [0.6, 0.8], total_leads_submitted_interval = [0.2, 0.6], consumer_score_probablity_to_transact_interval = [0.4, 0.6]\n",
      "total_saved_listings_interval = [0.6, 0.8], total_leads_submitted_interval = [0.2, 0.6], consumer_score_probablity_to_transact_interval = [0.4, 0.8]\n",
      "total_saved_listings_interval = [0.6, 0.8], total_leads_submitted_interval = [0.2, 0.6], consumer_score_probablity_to_transact_interval = [0.6, 0.8]\n",
      "total_saved_listings_interval = [0.6, 0.8], total_leads_submitted_interval = [0.2, 0.8], consumer_score_probablity_to_transact_interval = [0.2, 0.4]\n",
      "total_saved_listings_interval = [0.6, 0.8], total_leads_submitted_interval = [0.2, 0.8], consumer_score_probablity_to_transact_interval = [0.2, 0.6]\n",
      "total_saved_listings_interval = [0.6, 0.8], total_leads_submitted_interval = [0.2, 0.8], consumer_score_probablity_to_transact_interval = [0.2, 0.8]\n",
      "total_saved_listings_interval = [0.6, 0.8], total_leads_submitted_interval = [0.2, 0.8], consumer_score_probablity_to_transact_interval = [0.4, 0.6]\n",
      "total_saved_listings_interval = [0.6, 0.8], total_leads_submitted_interval = [0.2, 0.8], consumer_score_probablity_to_transact_interval = [0.4, 0.8]\n",
      "total_saved_listings_interval = [0.6, 0.8], total_leads_submitted_interval = [0.2, 0.8], consumer_score_probablity_to_transact_interval = [0.6, 0.8]\n",
      "total_saved_listings_interval = [0.6, 0.8], total_leads_submitted_interval = [0.4, 0.6], consumer_score_probablity_to_transact_interval = [0.2, 0.4]\n",
      "total_saved_listings_interval = [0.6, 0.8], total_leads_submitted_interval = [0.4, 0.6], consumer_score_probablity_to_transact_interval = [0.2, 0.6]\n",
      "total_saved_listings_interval = [0.6, 0.8], total_leads_submitted_interval = [0.4, 0.6], consumer_score_probablity_to_transact_interval = [0.2, 0.8]\n",
      "total_saved_listings_interval = [0.6, 0.8], total_leads_submitted_interval = [0.4, 0.6], consumer_score_probablity_to_transact_interval = [0.4, 0.6]\n",
      "total_saved_listings_interval = [0.6, 0.8], total_leads_submitted_interval = [0.4, 0.6], consumer_score_probablity_to_transact_interval = [0.4, 0.8]\n",
      "total_saved_listings_interval = [0.6, 0.8], total_leads_submitted_interval = [0.4, 0.6], consumer_score_probablity_to_transact_interval = [0.6, 0.8]\n"
     ]
    },
    {
     "ename": "ValueError",
     "evalue": "This solver needs samples of at least 2 classes in the data, but the data contains only one class: 0.0",
     "traceback": [
      "\u001b[0;31m---------------------------------------------------------------------------\u001b[0m",
      "\u001b[0;31mValueError\u001b[0m                                Traceback (most recent call last)",
      "\u001b[0;32m<ipython-input-95-42971c6cafbd>\u001b[0m in \u001b[0;36m<module>\u001b[0;34m()\u001b[0m\n\u001b[1;32m     24\u001b[0m             \u001b[0mtmp_bi_imp_rf_based_030\u001b[0m \u001b[0;34m=\u001b[0m \u001b[0mtmp_bi_imp_rf_based_030\u001b[0m\u001b[0;34m.\u001b[0m\u001b[0mdrop\u001b[0m\u001b[0;34m(\u001b[0m\u001b[0mcolumns\u001b[0m \u001b[0;34m=\u001b[0m \u001b[0;34m[\u001b[0m\u001b[0;34m'total_saved_listings'\u001b[0m\u001b[0;34m,\u001b[0m\u001b[0;34m'total_leads_submitted'\u001b[0m\u001b[0;34m,\u001b[0m\u001b[0;34m'consumer_score_probablity_to_transact'\u001b[0m\u001b[0;34m]\u001b[0m\u001b[0;34m)\u001b[0m\u001b[0;34m\u001b[0m\u001b[0m\n\u001b[1;32m     25\u001b[0m             \u001b[0mtmp_bi_imp_rf_based_030\u001b[0m \u001b[0;34m=\u001b[0m \u001b[0mBuyerIntentDataSetBalancer\u001b[0m\u001b[0;34m.\u001b[0m\u001b[0munder_sampling\u001b[0m\u001b[0;34m(\u001b[0m\u001b[0mtmp_bi_imp_rf_based_030\u001b[0m\u001b[0;34m,\u001b[0m \u001b[0;34m'buyer_stage'\u001b[0m\u001b[0;34m)\u001b[0m\u001b[0;34m\u001b[0m\u001b[0m\n\u001b[0;32m---> 26\u001b[0;31m             \u001b[0mres\u001b[0m \u001b[0;34m=\u001b[0m \u001b[0mBuyerIntentMLModels\u001b[0m\u001b[0;34m.\u001b[0m\u001b[0mbuyer_intent_stage_classifiers_factory\u001b[0m\u001b[0;34m(\u001b[0m\u001b[0mtmp_bi_imp_rf_based_030\u001b[0m\u001b[0;34m,\u001b[0m \u001b[0;36m10\u001b[0m\u001b[0;34m,\u001b[0m \u001b[0mfull_display\u001b[0m\u001b[0;34m=\u001b[0m\u001b[0;32mFalse\u001b[0m\u001b[0;34m)\u001b[0m\u001b[0;34m\u001b[0m\u001b[0m\n\u001b[0m\u001b[1;32m     27\u001b[0m             \u001b[0msummary\u001b[0m \u001b[0;34m=\u001b[0m \u001b[0;34m(\u001b[0m\u001b[0mres\u001b[0m\u001b[0;34m,\u001b[0m \u001b[0mlen\u001b[0m\u001b[0;34m(\u001b[0m\u001b[0mtmp_bi_imp_rf_based_030\u001b[0m\u001b[0;34m[\u001b[0m\u001b[0;34m'buyer_stage'\u001b[0m\u001b[0;34m]\u001b[0m\u001b[0;34m.\u001b[0m\u001b[0munique\u001b[0m\u001b[0;34m(\u001b[0m\u001b[0;34m)\u001b[0m\u001b[0;34m)\u001b[0m\u001b[0;34m,\u001b[0m \u001b[0mitem_1\u001b[0m\u001b[0;34m,\u001b[0m \u001b[0mitem_2\u001b[0m\u001b[0;34m,\u001b[0m \u001b[0mitem_3\u001b[0m\u001b[0;34m)\u001b[0m\u001b[0;34m\u001b[0m\u001b[0m\n\u001b[1;32m     28\u001b[0m             \u001b[0mbest_models_list\u001b[0m\u001b[0;34m.\u001b[0m\u001b[0mappend\u001b[0m\u001b[0;34m(\u001b[0m\u001b[0msummary\u001b[0m\u001b[0;34m)\u001b[0m\u001b[0;34m\u001b[0m\u001b[0m\n",
      "\u001b[0;32m<ipython-input-82-5b994ae0f364>\u001b[0m in \u001b[0;36mbuyer_intent_stage_classifiers_factory\u001b[0;34m(df, n_s, full_display)\u001b[0m\n\u001b[1;32m     54\u001b[0m         \u001b[0;32mfor\u001b[0m \u001b[0mname\u001b[0m\u001b[0;34m,\u001b[0m \u001b[0mmodel\u001b[0m \u001b[0;32min\u001b[0m \u001b[0mmodels\u001b[0m\u001b[0;34m:\u001b[0m\u001b[0;34m\u001b[0m\u001b[0m\n\u001b[1;32m     55\u001b[0m             \u001b[0mkfold\u001b[0m \u001b[0;34m=\u001b[0m \u001b[0mmodel_selection\u001b[0m\u001b[0;34m.\u001b[0m\u001b[0mKFold\u001b[0m\u001b[0;34m(\u001b[0m\u001b[0mn_splits\u001b[0m \u001b[0;34m=\u001b[0m \u001b[0mn_s\u001b[0m\u001b[0;34m,\u001b[0m \u001b[0mrandom_state\u001b[0m\u001b[0;34m=\u001b[0m\u001b[0mseed\u001b[0m\u001b[0;34m)\u001b[0m\u001b[0;34m\u001b[0m\u001b[0m\n\u001b[0;32m---> 56\u001b[0;31m             \u001b[0mcv_results\u001b[0m \u001b[0;34m=\u001b[0m \u001b[0mmodel_selection\u001b[0m\u001b[0;34m.\u001b[0m\u001b[0mcross_val_score\u001b[0m\u001b[0;34m(\u001b[0m\u001b[0mmodel\u001b[0m\u001b[0;34m,\u001b[0m \u001b[0mX\u001b[0m\u001b[0;34m,\u001b[0m \u001b[0mY\u001b[0m\u001b[0;34m,\u001b[0m \u001b[0mcv\u001b[0m\u001b[0;34m=\u001b[0m\u001b[0mkfold\u001b[0m\u001b[0;34m,\u001b[0m \u001b[0mscoring\u001b[0m\u001b[0;34m=\u001b[0m\u001b[0mscoring\u001b[0m\u001b[0;34m)\u001b[0m\u001b[0;34m\u001b[0m\u001b[0m\n\u001b[0m\u001b[1;32m     57\u001b[0m             \u001b[0mresults\u001b[0m\u001b[0;34m.\u001b[0m\u001b[0mappend\u001b[0m\u001b[0;34m(\u001b[0m\u001b[0mcv_results\u001b[0m\u001b[0;34m)\u001b[0m\u001b[0;34m\u001b[0m\u001b[0m\n\u001b[1;32m     58\u001b[0m             \u001b[0mnames\u001b[0m\u001b[0;34m.\u001b[0m\u001b[0mappend\u001b[0m\u001b[0;34m(\u001b[0m\u001b[0mname\u001b[0m\u001b[0;34m)\u001b[0m\u001b[0;34m\u001b[0m\u001b[0m\n",
      "\u001b[0;32m~/anaconda3/envs/python3/lib/python3.6/site-packages/sklearn/model_selection/_validation.py\u001b[0m in \u001b[0;36mcross_val_score\u001b[0;34m(estimator, X, y, groups, scoring, cv, n_jobs, verbose, fit_params, pre_dispatch, error_score)\u001b[0m\n\u001b[1;32m    400\u001b[0m                                 \u001b[0mfit_params\u001b[0m\u001b[0;34m=\u001b[0m\u001b[0mfit_params\u001b[0m\u001b[0;34m,\u001b[0m\u001b[0;34m\u001b[0m\u001b[0m\n\u001b[1;32m    401\u001b[0m                                 \u001b[0mpre_dispatch\u001b[0m\u001b[0;34m=\u001b[0m\u001b[0mpre_dispatch\u001b[0m\u001b[0;34m,\u001b[0m\u001b[0;34m\u001b[0m\u001b[0m\n\u001b[0;32m--> 402\u001b[0;31m                                 error_score=error_score)\n\u001b[0m\u001b[1;32m    403\u001b[0m     \u001b[0;32mreturn\u001b[0m \u001b[0mcv_results\u001b[0m\u001b[0;34m[\u001b[0m\u001b[0;34m'test_score'\u001b[0m\u001b[0;34m]\u001b[0m\u001b[0;34m\u001b[0m\u001b[0m\n\u001b[1;32m    404\u001b[0m \u001b[0;34m\u001b[0m\u001b[0m\n",
      "\u001b[0;32m~/anaconda3/envs/python3/lib/python3.6/site-packages/sklearn/model_selection/_validation.py\u001b[0m in \u001b[0;36mcross_validate\u001b[0;34m(estimator, X, y, groups, scoring, cv, n_jobs, verbose, fit_params, pre_dispatch, return_train_score, return_estimator, error_score)\u001b[0m\n\u001b[1;32m    238\u001b[0m             \u001b[0mreturn_times\u001b[0m\u001b[0;34m=\u001b[0m\u001b[0;32mTrue\u001b[0m\u001b[0;34m,\u001b[0m \u001b[0mreturn_estimator\u001b[0m\u001b[0;34m=\u001b[0m\u001b[0mreturn_estimator\u001b[0m\u001b[0;34m,\u001b[0m\u001b[0;34m\u001b[0m\u001b[0m\n\u001b[1;32m    239\u001b[0m             error_score=error_score)\n\u001b[0;32m--> 240\u001b[0;31m         for train, test in cv.split(X, y, groups))\n\u001b[0m\u001b[1;32m    241\u001b[0m \u001b[0;34m\u001b[0m\u001b[0m\n\u001b[1;32m    242\u001b[0m     \u001b[0mzipped_scores\u001b[0m \u001b[0;34m=\u001b[0m \u001b[0mlist\u001b[0m\u001b[0;34m(\u001b[0m\u001b[0mzip\u001b[0m\u001b[0;34m(\u001b[0m\u001b[0;34m*\u001b[0m\u001b[0mscores\u001b[0m\u001b[0;34m)\u001b[0m\u001b[0;34m)\u001b[0m\u001b[0;34m\u001b[0m\u001b[0m\n",
      "\u001b[0;32m~/anaconda3/envs/python3/lib/python3.6/site-packages/sklearn/externals/joblib/parallel.py\u001b[0m in \u001b[0;36m__call__\u001b[0;34m(self, iterable)\u001b[0m\n\u001b[1;32m    915\u001b[0m             \u001b[0;31m# remaining jobs.\u001b[0m\u001b[0;34m\u001b[0m\u001b[0;34m\u001b[0m\u001b[0m\n\u001b[1;32m    916\u001b[0m             \u001b[0mself\u001b[0m\u001b[0;34m.\u001b[0m\u001b[0m_iterating\u001b[0m \u001b[0;34m=\u001b[0m \u001b[0;32mFalse\u001b[0m\u001b[0;34m\u001b[0m\u001b[0m\n\u001b[0;32m--> 917\u001b[0;31m             \u001b[0;32mif\u001b[0m \u001b[0mself\u001b[0m\u001b[0;34m.\u001b[0m\u001b[0mdispatch_one_batch\u001b[0m\u001b[0;34m(\u001b[0m\u001b[0miterator\u001b[0m\u001b[0;34m)\u001b[0m\u001b[0;34m:\u001b[0m\u001b[0;34m\u001b[0m\u001b[0m\n\u001b[0m\u001b[1;32m    918\u001b[0m                 \u001b[0mself\u001b[0m\u001b[0;34m.\u001b[0m\u001b[0m_iterating\u001b[0m \u001b[0;34m=\u001b[0m \u001b[0mself\u001b[0m\u001b[0;34m.\u001b[0m\u001b[0m_original_iterator\u001b[0m \u001b[0;32mis\u001b[0m \u001b[0;32mnot\u001b[0m \u001b[0;32mNone\u001b[0m\u001b[0;34m\u001b[0m\u001b[0m\n\u001b[1;32m    919\u001b[0m \u001b[0;34m\u001b[0m\u001b[0m\n",
      "\u001b[0;32m~/anaconda3/envs/python3/lib/python3.6/site-packages/sklearn/externals/joblib/parallel.py\u001b[0m in \u001b[0;36mdispatch_one_batch\u001b[0;34m(self, iterator)\u001b[0m\n\u001b[1;32m    757\u001b[0m                 \u001b[0;32mreturn\u001b[0m \u001b[0;32mFalse\u001b[0m\u001b[0;34m\u001b[0m\u001b[0m\n\u001b[1;32m    758\u001b[0m             \u001b[0;32melse\u001b[0m\u001b[0;34m:\u001b[0m\u001b[0;34m\u001b[0m\u001b[0m\n\u001b[0;32m--> 759\u001b[0;31m                 \u001b[0mself\u001b[0m\u001b[0;34m.\u001b[0m\u001b[0m_dispatch\u001b[0m\u001b[0;34m(\u001b[0m\u001b[0mtasks\u001b[0m\u001b[0;34m)\u001b[0m\u001b[0;34m\u001b[0m\u001b[0m\n\u001b[0m\u001b[1;32m    760\u001b[0m                 \u001b[0;32mreturn\u001b[0m \u001b[0;32mTrue\u001b[0m\u001b[0;34m\u001b[0m\u001b[0m\n\u001b[1;32m    761\u001b[0m \u001b[0;34m\u001b[0m\u001b[0m\n",
      "\u001b[0;32m~/anaconda3/envs/python3/lib/python3.6/site-packages/sklearn/externals/joblib/parallel.py\u001b[0m in \u001b[0;36m_dispatch\u001b[0;34m(self, batch)\u001b[0m\n\u001b[1;32m    714\u001b[0m         \u001b[0;32mwith\u001b[0m \u001b[0mself\u001b[0m\u001b[0;34m.\u001b[0m\u001b[0m_lock\u001b[0m\u001b[0;34m:\u001b[0m\u001b[0;34m\u001b[0m\u001b[0m\n\u001b[1;32m    715\u001b[0m             \u001b[0mjob_idx\u001b[0m \u001b[0;34m=\u001b[0m \u001b[0mlen\u001b[0m\u001b[0;34m(\u001b[0m\u001b[0mself\u001b[0m\u001b[0;34m.\u001b[0m\u001b[0m_jobs\u001b[0m\u001b[0;34m)\u001b[0m\u001b[0;34m\u001b[0m\u001b[0m\n\u001b[0;32m--> 716\u001b[0;31m             \u001b[0mjob\u001b[0m \u001b[0;34m=\u001b[0m \u001b[0mself\u001b[0m\u001b[0;34m.\u001b[0m\u001b[0m_backend\u001b[0m\u001b[0;34m.\u001b[0m\u001b[0mapply_async\u001b[0m\u001b[0;34m(\u001b[0m\u001b[0mbatch\u001b[0m\u001b[0;34m,\u001b[0m \u001b[0mcallback\u001b[0m\u001b[0;34m=\u001b[0m\u001b[0mcb\u001b[0m\u001b[0;34m)\u001b[0m\u001b[0;34m\u001b[0m\u001b[0m\n\u001b[0m\u001b[1;32m    717\u001b[0m             \u001b[0;31m# A job can complete so quickly than its callback is\u001b[0m\u001b[0;34m\u001b[0m\u001b[0;34m\u001b[0m\u001b[0m\n\u001b[1;32m    718\u001b[0m             \u001b[0;31m# called before we get here, causing self._jobs to\u001b[0m\u001b[0;34m\u001b[0m\u001b[0;34m\u001b[0m\u001b[0m\n",
      "\u001b[0;32m~/anaconda3/envs/python3/lib/python3.6/site-packages/sklearn/externals/joblib/_parallel_backends.py\u001b[0m in \u001b[0;36mapply_async\u001b[0;34m(self, func, callback)\u001b[0m\n\u001b[1;32m    180\u001b[0m     \u001b[0;32mdef\u001b[0m \u001b[0mapply_async\u001b[0m\u001b[0;34m(\u001b[0m\u001b[0mself\u001b[0m\u001b[0;34m,\u001b[0m \u001b[0mfunc\u001b[0m\u001b[0;34m,\u001b[0m \u001b[0mcallback\u001b[0m\u001b[0;34m=\u001b[0m\u001b[0;32mNone\u001b[0m\u001b[0;34m)\u001b[0m\u001b[0;34m:\u001b[0m\u001b[0;34m\u001b[0m\u001b[0m\n\u001b[1;32m    181\u001b[0m         \u001b[0;34m\"\"\"Schedule a func to be run\"\"\"\u001b[0m\u001b[0;34m\u001b[0m\u001b[0m\n\u001b[0;32m--> 182\u001b[0;31m         \u001b[0mresult\u001b[0m \u001b[0;34m=\u001b[0m \u001b[0mImmediateResult\u001b[0m\u001b[0;34m(\u001b[0m\u001b[0mfunc\u001b[0m\u001b[0;34m)\u001b[0m\u001b[0;34m\u001b[0m\u001b[0m\n\u001b[0m\u001b[1;32m    183\u001b[0m         \u001b[0;32mif\u001b[0m \u001b[0mcallback\u001b[0m\u001b[0;34m:\u001b[0m\u001b[0;34m\u001b[0m\u001b[0m\n\u001b[1;32m    184\u001b[0m             \u001b[0mcallback\u001b[0m\u001b[0;34m(\u001b[0m\u001b[0mresult\u001b[0m\u001b[0;34m)\u001b[0m\u001b[0;34m\u001b[0m\u001b[0m\n",
      "\u001b[0;32m~/anaconda3/envs/python3/lib/python3.6/site-packages/sklearn/externals/joblib/_parallel_backends.py\u001b[0m in \u001b[0;36m__init__\u001b[0;34m(self, batch)\u001b[0m\n\u001b[1;32m    547\u001b[0m         \u001b[0;31m# Don't delay the application, to avoid keeping the input\u001b[0m\u001b[0;34m\u001b[0m\u001b[0;34m\u001b[0m\u001b[0m\n\u001b[1;32m    548\u001b[0m         \u001b[0;31m# arguments in memory\u001b[0m\u001b[0;34m\u001b[0m\u001b[0;34m\u001b[0m\u001b[0m\n\u001b[0;32m--> 549\u001b[0;31m         \u001b[0mself\u001b[0m\u001b[0;34m.\u001b[0m\u001b[0mresults\u001b[0m \u001b[0;34m=\u001b[0m \u001b[0mbatch\u001b[0m\u001b[0;34m(\u001b[0m\u001b[0;34m)\u001b[0m\u001b[0;34m\u001b[0m\u001b[0m\n\u001b[0m\u001b[1;32m    550\u001b[0m \u001b[0;34m\u001b[0m\u001b[0m\n\u001b[1;32m    551\u001b[0m     \u001b[0;32mdef\u001b[0m \u001b[0mget\u001b[0m\u001b[0;34m(\u001b[0m\u001b[0mself\u001b[0m\u001b[0;34m)\u001b[0m\u001b[0;34m:\u001b[0m\u001b[0;34m\u001b[0m\u001b[0m\n",
      "\u001b[0;32m~/anaconda3/envs/python3/lib/python3.6/site-packages/sklearn/externals/joblib/parallel.py\u001b[0m in \u001b[0;36m__call__\u001b[0;34m(self)\u001b[0m\n\u001b[1;32m    223\u001b[0m         \u001b[0;32mwith\u001b[0m \u001b[0mparallel_backend\u001b[0m\u001b[0;34m(\u001b[0m\u001b[0mself\u001b[0m\u001b[0;34m.\u001b[0m\u001b[0m_backend\u001b[0m\u001b[0;34m,\u001b[0m \u001b[0mn_jobs\u001b[0m\u001b[0;34m=\u001b[0m\u001b[0mself\u001b[0m\u001b[0;34m.\u001b[0m\u001b[0m_n_jobs\u001b[0m\u001b[0;34m)\u001b[0m\u001b[0;34m:\u001b[0m\u001b[0;34m\u001b[0m\u001b[0m\n\u001b[1;32m    224\u001b[0m             return [func(*args, **kwargs)\n\u001b[0;32m--> 225\u001b[0;31m                     for func, args, kwargs in self.items]\n\u001b[0m\u001b[1;32m    226\u001b[0m \u001b[0;34m\u001b[0m\u001b[0m\n\u001b[1;32m    227\u001b[0m     \u001b[0;32mdef\u001b[0m \u001b[0m__len__\u001b[0m\u001b[0;34m(\u001b[0m\u001b[0mself\u001b[0m\u001b[0;34m)\u001b[0m\u001b[0;34m:\u001b[0m\u001b[0;34m\u001b[0m\u001b[0m\n",
      "\u001b[0;32m~/anaconda3/envs/python3/lib/python3.6/site-packages/sklearn/externals/joblib/parallel.py\u001b[0m in \u001b[0;36m<listcomp>\u001b[0;34m(.0)\u001b[0m\n\u001b[1;32m    223\u001b[0m         \u001b[0;32mwith\u001b[0m \u001b[0mparallel_backend\u001b[0m\u001b[0;34m(\u001b[0m\u001b[0mself\u001b[0m\u001b[0;34m.\u001b[0m\u001b[0m_backend\u001b[0m\u001b[0;34m,\u001b[0m \u001b[0mn_jobs\u001b[0m\u001b[0;34m=\u001b[0m\u001b[0mself\u001b[0m\u001b[0;34m.\u001b[0m\u001b[0m_n_jobs\u001b[0m\u001b[0;34m)\u001b[0m\u001b[0;34m:\u001b[0m\u001b[0;34m\u001b[0m\u001b[0m\n\u001b[1;32m    224\u001b[0m             return [func(*args, **kwargs)\n\u001b[0;32m--> 225\u001b[0;31m                     for func, args, kwargs in self.items]\n\u001b[0m\u001b[1;32m    226\u001b[0m \u001b[0;34m\u001b[0m\u001b[0m\n\u001b[1;32m    227\u001b[0m     \u001b[0;32mdef\u001b[0m \u001b[0m__len__\u001b[0m\u001b[0;34m(\u001b[0m\u001b[0mself\u001b[0m\u001b[0;34m)\u001b[0m\u001b[0;34m:\u001b[0m\u001b[0;34m\u001b[0m\u001b[0m\n",
      "\u001b[0;32m~/anaconda3/envs/python3/lib/python3.6/site-packages/sklearn/model_selection/_validation.py\u001b[0m in \u001b[0;36m_fit_and_score\u001b[0;34m(estimator, X, y, scorer, train, test, verbose, parameters, fit_params, return_train_score, return_parameters, return_n_test_samples, return_times, return_estimator, error_score)\u001b[0m\n\u001b[1;32m    526\u001b[0m             \u001b[0mestimator\u001b[0m\u001b[0;34m.\u001b[0m\u001b[0mfit\u001b[0m\u001b[0;34m(\u001b[0m\u001b[0mX_train\u001b[0m\u001b[0;34m,\u001b[0m \u001b[0;34m**\u001b[0m\u001b[0mfit_params\u001b[0m\u001b[0;34m)\u001b[0m\u001b[0;34m\u001b[0m\u001b[0m\n\u001b[1;32m    527\u001b[0m         \u001b[0;32melse\u001b[0m\u001b[0;34m:\u001b[0m\u001b[0;34m\u001b[0m\u001b[0m\n\u001b[0;32m--> 528\u001b[0;31m             \u001b[0mestimator\u001b[0m\u001b[0;34m.\u001b[0m\u001b[0mfit\u001b[0m\u001b[0;34m(\u001b[0m\u001b[0mX_train\u001b[0m\u001b[0;34m,\u001b[0m \u001b[0my_train\u001b[0m\u001b[0;34m,\u001b[0m \u001b[0;34m**\u001b[0m\u001b[0mfit_params\u001b[0m\u001b[0;34m)\u001b[0m\u001b[0;34m\u001b[0m\u001b[0m\n\u001b[0m\u001b[1;32m    529\u001b[0m \u001b[0;34m\u001b[0m\u001b[0m\n\u001b[1;32m    530\u001b[0m     \u001b[0;32mexcept\u001b[0m \u001b[0mException\u001b[0m \u001b[0;32mas\u001b[0m \u001b[0me\u001b[0m\u001b[0;34m:\u001b[0m\u001b[0;34m\u001b[0m\u001b[0m\n",
      "\u001b[0;32m~/anaconda3/envs/python3/lib/python3.6/site-packages/sklearn/linear_model/logistic.py\u001b[0m in \u001b[0;36mfit\u001b[0;34m(self, X, y, sample_weight)\u001b[0m\n\u001b[1;32m   1303\u001b[0m                 \u001b[0mself\u001b[0m\u001b[0;34m.\u001b[0m\u001b[0mclass_weight\u001b[0m\u001b[0;34m,\u001b[0m \u001b[0mself\u001b[0m\u001b[0;34m.\u001b[0m\u001b[0mpenalty\u001b[0m\u001b[0;34m,\u001b[0m \u001b[0mself\u001b[0m\u001b[0;34m.\u001b[0m\u001b[0mdual\u001b[0m\u001b[0;34m,\u001b[0m \u001b[0mself\u001b[0m\u001b[0;34m.\u001b[0m\u001b[0mverbose\u001b[0m\u001b[0;34m,\u001b[0m\u001b[0;34m\u001b[0m\u001b[0m\n\u001b[1;32m   1304\u001b[0m                 \u001b[0mself\u001b[0m\u001b[0;34m.\u001b[0m\u001b[0mmax_iter\u001b[0m\u001b[0;34m,\u001b[0m \u001b[0mself\u001b[0m\u001b[0;34m.\u001b[0m\u001b[0mtol\u001b[0m\u001b[0;34m,\u001b[0m \u001b[0mself\u001b[0m\u001b[0;34m.\u001b[0m\u001b[0mrandom_state\u001b[0m\u001b[0;34m,\u001b[0m\u001b[0;34m\u001b[0m\u001b[0m\n\u001b[0;32m-> 1305\u001b[0;31m                 sample_weight=sample_weight)\n\u001b[0m\u001b[1;32m   1306\u001b[0m             \u001b[0mself\u001b[0m\u001b[0;34m.\u001b[0m\u001b[0mn_iter_\u001b[0m \u001b[0;34m=\u001b[0m \u001b[0mnp\u001b[0m\u001b[0;34m.\u001b[0m\u001b[0marray\u001b[0m\u001b[0;34m(\u001b[0m\u001b[0;34m[\u001b[0m\u001b[0mn_iter_\u001b[0m\u001b[0;34m]\u001b[0m\u001b[0;34m)\u001b[0m\u001b[0;34m\u001b[0m\u001b[0m\n\u001b[1;32m   1307\u001b[0m             \u001b[0;32mreturn\u001b[0m \u001b[0mself\u001b[0m\u001b[0;34m\u001b[0m\u001b[0m\n",
      "\u001b[0;32m~/anaconda3/envs/python3/lib/python3.6/site-packages/sklearn/svm/base.py\u001b[0m in \u001b[0;36m_fit_liblinear\u001b[0;34m(X, y, C, fit_intercept, intercept_scaling, class_weight, penalty, dual, verbose, max_iter, tol, random_state, multi_class, loss, epsilon, sample_weight)\u001b[0m\n\u001b[1;32m    879\u001b[0m             raise ValueError(\"This solver needs samples of at least 2 classes\"\n\u001b[1;32m    880\u001b[0m                              \u001b[0;34m\" in the data, but the data contains only one\"\u001b[0m\u001b[0;34m\u001b[0m\u001b[0m\n\u001b[0;32m--> 881\u001b[0;31m                              \" class: %r\" % classes_[0])\n\u001b[0m\u001b[1;32m    882\u001b[0m \u001b[0;34m\u001b[0m\u001b[0m\n\u001b[1;32m    883\u001b[0m         \u001b[0mclass_weight_\u001b[0m \u001b[0;34m=\u001b[0m \u001b[0mcompute_class_weight\u001b[0m\u001b[0;34m(\u001b[0m\u001b[0mclass_weight\u001b[0m\u001b[0;34m,\u001b[0m \u001b[0mclasses_\u001b[0m\u001b[0;34m,\u001b[0m \u001b[0my\u001b[0m\u001b[0;34m)\u001b[0m\u001b[0;34m\u001b[0m\u001b[0m\n",
      "\u001b[0;31mValueError\u001b[0m: This solver needs samples of at least 2 classes in the data, but the data contains only one class: 0.0"
     ],
     "output_type": "error"
    }
   ],
   "source": [
    "values = [0.2, 0.4, 0.6, 0.8]\n",
    "total_saved_listings_ths_interval = []\n",
    "total_leads_submitted_ths_interval = []\n",
    "consumer_score_probablity_to_transact_ths_interval= []\n",
    "interval=dict()\n",
    "best_models_list = []\n",
    "\n",
    "for th_1 in values:\n",
    "    for th_2 in values:\n",
    "        if th_1 < th_2 :\n",
    "            total_saved_listings_ths_interval.append([th_1,th_2])\n",
    "            total_leads_submitted_ths_interval.append([th_1,th_2])\n",
    "            consumer_score_probablity_to_transact_ths_interval.append([th_1,th_2])\n",
    "\n",
    "\n",
    "for item_1 in total_saved_listings_ths_interval:\n",
    "    for item_2 in total_leads_submitted_ths_interval:\n",
    "        for item_3 in consumer_score_probablity_to_transact_ths_interval: \n",
    "            print(\"total_saved_listings_interval = {}, total_leads_submitted_interval = {}, consumer_score_probablity_to_transact_interval = {}\".format(str(item_1), str(item_2), str(item_3)))   \n",
    "            interval['total_saved_listings'] = item_1\n",
    "            interval['total_leads_submitted'] = item_2\n",
    "            interval['consumer_score_probablity_to_transact'] = item_3\n",
    "            tmp_bi_imp_rf_based_030 = BuyerIntentStageRuleEngine.rule_3_stages(bi_imp_rf_based_030, interval, rule_name = 'listings_leads_consumer_score')\n",
    "            tmp_bi_imp_rf_based_030 = tmp_bi_imp_rf_based_030.drop(columns = ['total_saved_listings','total_leads_submitted','consumer_score_probablity_to_transact'])\n",
    "            tmp_bi_imp_rf_based_030 = BuyerIntentDataSetBalancer.under_sampling(tmp_bi_imp_rf_based_030, 'buyer_stage')\n",
    "            res = BuyerIntentMLModels.buyer_intent_stage_classifiers_factory(tmp_bi_imp_rf_based_030, 10, full_display=False)\n",
    "            summary = (res, len(tmp_bi_imp_rf_based_030['buyer_stage'].unique()), item_1, item_2, item_3)\n",
    "            best_models_list.append(summary)"
   ]
  },
  {
   "cell_type": "markdown",
   "metadata": {},
   "source": [
    "# Summary:\n",
    "\n",
    "best_model = RF', 'accuracy': 0.9723809523809523, 'std': 0.036692940493862965}, 3, [0.4, 0.6], [0.2, 0.4], [0.4, 0.8])\n",
    "\n",
    "## Recomendation : The Third RULE is working better than the two other RULES"
   ]
  },
  {
   "cell_type": "markdown",
   "metadata": {},
   "source": [
    "## RULE_4 : RULE_4(no_saved_searches, no_lead_submission, ss_th_1, ss_th_2, l_th_1, l_th_2)"
   ]
  },
  {
   "cell_type": "code",
   "execution_count": 98,
   "metadata": {},
   "outputs": [],
   "source": [
    "values = [0.2, 0.4, 0.6, 0.8]\n",
    "total_saved_listings_ths_interval = []\n",
    "total_leads_submitted_ths_interval = []\n",
    "interval=dict()\n",
    "best_models_list = []\n",
    "\n",
    "for th_1 in values:\n",
    "    for th_2 in values:\n",
    "        if th_1 < th_2 :\n",
    "            total_saved_listings_ths_interval.append([th_1,th_2])\n",
    "            total_leads_submitted_ths_interval.append([th_1,th_2])"
   ]
  },
  {
   "cell_type": "code",
   "execution_count": 99,
   "metadata": {},
   "outputs": [
    {
     "name": "stdout",
     "output_type": "stream",
     "text": [
      "total_saved_listings_interval = [0.2, 0.4], total_leads_submitted_interval = [0.2, 0.4]\n",
      "total_saved_listings_interval = [0.2, 0.4], total_leads_submitted_interval = [0.2, 0.6]\n",
      "total_saved_listings_interval = [0.2, 0.4], total_leads_submitted_interval = [0.2, 0.8]\n",
      "total_saved_listings_interval = [0.2, 0.4], total_leads_submitted_interval = [0.4, 0.6]\n",
      "total_saved_listings_interval = [0.2, 0.4], total_leads_submitted_interval = [0.4, 0.8]\n",
      "total_saved_listings_interval = [0.2, 0.4], total_leads_submitted_interval = [0.6, 0.8]\n",
      "total_saved_listings_interval = [0.2, 0.6], total_leads_submitted_interval = [0.2, 0.4]\n",
      "total_saved_listings_interval = [0.2, 0.6], total_leads_submitted_interval = [0.2, 0.6]\n",
      "total_saved_listings_interval = [0.2, 0.6], total_leads_submitted_interval = [0.2, 0.8]\n",
      "total_saved_listings_interval = [0.2, 0.6], total_leads_submitted_interval = [0.4, 0.6]\n",
      "total_saved_listings_interval = [0.2, 0.6], total_leads_submitted_interval = [0.4, 0.8]\n",
      "total_saved_listings_interval = [0.2, 0.6], total_leads_submitted_interval = [0.6, 0.8]\n",
      "total_saved_listings_interval = [0.2, 0.8], total_leads_submitted_interval = [0.2, 0.4]\n",
      "total_saved_listings_interval = [0.2, 0.8], total_leads_submitted_interval = [0.2, 0.6]\n",
      "total_saved_listings_interval = [0.2, 0.8], total_leads_submitted_interval = [0.2, 0.8]\n",
      "total_saved_listings_interval = [0.2, 0.8], total_leads_submitted_interval = [0.4, 0.6]\n",
      "total_saved_listings_interval = [0.2, 0.8], total_leads_submitted_interval = [0.4, 0.8]\n",
      "total_saved_listings_interval = [0.2, 0.8], total_leads_submitted_interval = [0.6, 0.8]\n",
      "total_saved_listings_interval = [0.4, 0.6], total_leads_submitted_interval = [0.2, 0.4]\n",
      "total_saved_listings_interval = [0.4, 0.6], total_leads_submitted_interval = [0.2, 0.6]\n",
      "total_saved_listings_interval = [0.4, 0.6], total_leads_submitted_interval = [0.2, 0.8]\n",
      "total_saved_listings_interval = [0.4, 0.6], total_leads_submitted_interval = [0.4, 0.6]\n",
      "total_saved_listings_interval = [0.4, 0.6], total_leads_submitted_interval = [0.4, 0.8]\n",
      "total_saved_listings_interval = [0.4, 0.6], total_leads_submitted_interval = [0.6, 0.8]\n",
      "total_saved_listings_interval = [0.4, 0.8], total_leads_submitted_interval = [0.2, 0.4]\n",
      "total_saved_listings_interval = [0.4, 0.8], total_leads_submitted_interval = [0.2, 0.6]\n",
      "total_saved_listings_interval = [0.4, 0.8], total_leads_submitted_interval = [0.2, 0.8]\n",
      "total_saved_listings_interval = [0.4, 0.8], total_leads_submitted_interval = [0.4, 0.6]\n",
      "total_saved_listings_interval = [0.4, 0.8], total_leads_submitted_interval = [0.4, 0.8]\n",
      "total_saved_listings_interval = [0.4, 0.8], total_leads_submitted_interval = [0.6, 0.8]\n",
      "total_saved_listings_interval = [0.6, 0.8], total_leads_submitted_interval = [0.2, 0.4]\n",
      "total_saved_listings_interval = [0.6, 0.8], total_leads_submitted_interval = [0.2, 0.6]\n",
      "total_saved_listings_interval = [0.6, 0.8], total_leads_submitted_interval = [0.2, 0.8]\n",
      "total_saved_listings_interval = [0.6, 0.8], total_leads_submitted_interval = [0.4, 0.6]\n",
      "total_saved_listings_interval = [0.6, 0.8], total_leads_submitted_interval = [0.4, 0.8]\n",
      "total_saved_listings_interval = [0.6, 0.8], total_leads_submitted_interval = [0.6, 0.8]\n"
     ]
    }
   ],
   "source": [
    "for item_1 in total_saved_listings_ths_interval:\n",
    "    for item_2 in total_leads_submitted_ths_interval:\n",
    "            print(\"total_saved_listings_interval = {}, total_leads_submitted_interval = {}\".format(str(item_1), str(item_2)))   \n",
    "            interval['total_saved_listings'] = item_1\n",
    "            interval['total_leads_submitted'] = item_2\n",
    "            tmp_bi_imp_rf_based_030 = BuyerIntentStageRuleEngine.rule_3_stages(bi_imp_rf_based_030, interval, rule_name = 'listings_leads')\n",
    "            tmp_bi_imp_rf_based_030 = tmp_bi_imp_rf_based_030.drop(columns = ['total_saved_listings','total_leads_submitted'])\n",
    "            tmp_bi_imp_rf_based_030 = BuyerIntentDataSetBalancer.under_sampling(tmp_bi_imp_rf_based_030, 'buyer_stage')\n",
    "            res = BuyerIntentMLModels.buyer_intent_stage_classifiers_factory(tmp_bi_imp_rf_based_030, 10, full_display=False)\n",
    "            summary = (res, len(tmp_bi_imp_rf_based_030['buyer_stage'].unique()), item_1, item_2)\n",
    "            best_models_list.append(summary)"
   ]
  },
  {
   "cell_type": "markdown",
   "metadata": {},
   "source": [
    "{'best_model': 'DT', 'accuracy': 0.95, 'std': 0.06666666666666665}, 3, [0.4, 0.6], [0.4, 0.8])"
   ]
  }
 ],
 "metadata": {
  "kernelspec": {
   "display_name": "conda_python3",
   "language": "python",
   "name": "conda_python3"
  },
  "language_info": {
   "codemirror_mode": {
    "name": "ipython",
    "version": 3
   },
   "file_extension": ".py",
   "mimetype": "text/x-python",
   "name": "python",
   "nbconvert_exporter": "python",
   "pygments_lexer": "ipython3",
   "version": "3.6.5"
  }
 },
 "nbformat": 4,
 "nbformat_minor": 4
}
