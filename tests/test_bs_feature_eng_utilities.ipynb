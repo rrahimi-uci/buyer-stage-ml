{
 "cells": [
  {
   "cell_type": "code",
   "execution_count": 72,
   "metadata": {},
   "outputs": [
    {
     "name": "stdout",
     "output_type": "stream",
     "text": [
      "Collecting https://s3-us-west-2.amazonaws.com/move-dl-common-binary-distrubution/python/move_dl_common_api-3.2.131-release.tar.gz\n",
      "  Using cached https://s3-us-west-2.amazonaws.com/move-dl-common-binary-distrubution/python/move_dl_common_api-3.2.131-release.tar.gz\n",
      "Collecting boto3 (from move-dl-common-api===3.2.131-release)\n",
      "  Using cached https://files.pythonhosted.org/packages/78/a4/1448a8c827d19ab49b98fc6767bb2cf689386ef8102502cbc956d4faa638/boto3-1.9.203-py2.py3-none-any.whl\n",
      "Collecting botocore<1.13.0,>=1.12.203 (from boto3->move-dl-common-api===3.2.131-release)\n",
      "  Using cached https://files.pythonhosted.org/packages/78/ab/168a3ec74ab3f6e1aa066ef3c77082749017345cbb2ccb1477ed2f21d19b/botocore-1.12.203-py2.py3-none-any.whl\n",
      "Collecting jmespath<1.0.0,>=0.7.1 (from boto3->move-dl-common-api===3.2.131-release)\n",
      "  Using cached https://files.pythonhosted.org/packages/83/94/7179c3832a6d45b266ddb2aac329e101367fbdb11f425f13771d27f225bb/jmespath-0.9.4-py2.py3-none-any.whl\n",
      "Collecting s3transfer<0.3.0,>=0.2.0 (from boto3->move-dl-common-api===3.2.131-release)\n",
      "  Using cached https://files.pythonhosted.org/packages/16/8a/1fc3dba0c4923c2a76e1ff0d52b305c44606da63f718d14d3231e21c51b0/s3transfer-0.2.1-py2.py3-none-any.whl\n",
      "Collecting docutils<0.15,>=0.10 (from botocore<1.13.0,>=1.12.203->boto3->move-dl-common-api===3.2.131-release)\n",
      "  Using cached https://files.pythonhosted.org/packages/36/fa/08e9e6e0e3cbd1d362c3bbee8d01d0aedb2155c4ac112b19ef3cae8eed8d/docutils-0.14-py3-none-any.whl\n",
      "Collecting python-dateutil<3.0.0,>=2.1; python_version >= \"2.7\" (from botocore<1.13.0,>=1.12.203->boto3->move-dl-common-api===3.2.131-release)\n",
      "  Using cached https://files.pythonhosted.org/packages/41/17/c62faccbfbd163c7f57f3844689e3a78bae1f403648a6afb1d0866d87fbb/python_dateutil-2.8.0-py2.py3-none-any.whl\n",
      "Collecting urllib3<1.26,>=1.20; python_version >= \"3.4\" (from botocore<1.13.0,>=1.12.203->boto3->move-dl-common-api===3.2.131-release)\n",
      "  Using cached https://files.pythonhosted.org/packages/e6/60/247f23a7121ae632d62811ba7f273d0e58972d75e58a94d329d51550a47d/urllib3-1.25.3-py2.py3-none-any.whl\n",
      "Collecting six>=1.5 (from python-dateutil<3.0.0,>=2.1; python_version >= \"2.7\"->botocore<1.13.0,>=1.12.203->boto3->move-dl-common-api===3.2.131-release)\n",
      "  Using cached https://files.pythonhosted.org/packages/73/fb/00a976f728d0d1fecfe898238ce23f502a721c0ac0ecfedb80e0d88c64e9/six-1.12.0-py2.py3-none-any.whl\n",
      "Building wheels for collected packages: move-dl-common-api\n",
      "  Running setup.py bdist_wheel for move-dl-common-api ... \u001b[?25ldone\n",
      "\u001b[?25h  Stored in directory: /home/ec2-user/.cache/pip/wheels/57/77/47/62e0d2c17e9e2a7818ed7bab55e570ecd03f4ec8b9f33121f1\n",
      "Successfully built move-dl-common-api\n",
      "\u001b[31msagemaker 1.34.2 has requirement urllib3<1.25,>=1.21, but you'll have urllib3 1.25.3 which is incompatible.\u001b[0m\n",
      "\u001b[31mrequests 2.20.0 has requirement urllib3<1.25,>=1.21.1, but you'll have urllib3 1.25.3 which is incompatible.\u001b[0m\n",
      "\u001b[31mawscli 1.16.208 has requirement botocore==1.12.198, but you'll have botocore 1.12.203 which is incompatible.\u001b[0m\n",
      "Installing collected packages: docutils, jmespath, six, python-dateutil, urllib3, botocore, s3transfer, boto3, move-dl-common-api\n",
      "Successfully installed boto3-1.9.203 botocore-1.12.203 docutils-0.14 jmespath-0.9.4 move-dl-common-api-3.2.131-release python-dateutil-2.8.0 s3transfer-0.2.1 six-1.12.0 urllib3-1.25.3\n",
      "\u001b[33mYou are using pip version 10.0.1, however version 19.2.1 is available.\n",
      "You should consider upgrading via the 'pip install --upgrade pip' command.\u001b[0m\n"
     ]
    }
   ],
   "source": [
    "%run bi_feature_eng_utilities.ipynb"
   ]
  },
  {
   "cell_type": "code",
   "execution_count": 73,
   "metadata": {
    "collapsed": true,
    "jupyter": {
     "outputs_hidden": true
    }
   },
   "outputs": [
    {
     "name": "stdout",
     "output_type": "stream",
     "text": [
      "delete: s3://datascience-workspace-dev/buyer-intent/user_interactions/tables/0dbfce84-914c-47eb-ac57-df038278afbb.metadata\n",
      "delete: s3://datascience-workspace-dev/buyer-intent/user_interactions/tables/4f2a3a7d-cce2-4a8e-ab0f-2bcc4f72b069.metadata\n",
      "delete: s3://datascience-workspace-dev/buyer-intent/user_interactions/tables/3996bf54-3b30-4ac4-b8fd-bce247d1320c/20190807_214434_00041_vii6n_70957685-b9d3-46f6-a9fd-28b4e12bea9b\n",
      "delete: s3://datascience-workspace-dev/buyer-intent/user_interactions/tables/2f0c66f8-5597-4b0c-8fa3-5d9bce920366.metadata\n",
      "delete: s3://datascience-workspace-dev/buyer-intent/user_interactions/tables/3996bf54-3b30-4ac4-b8fd-bce247d1320c.metadata\n",
      "delete: s3://datascience-workspace-dev/buyer-intent/user_interactions/tables/671b24b5-53e9-4be9-a5f6-b1c8dbf8f730.metadata\n",
      "delete: s3://datascience-workspace-dev/buyer-intent/user_interactions/tables/biui_sampled_100_consumer_analytical_profile_summary_t001/20190807_175442_00036_2smhf_06bed7da-ca0d-4be1-855f-d3a6609b68c7\n",
      "delete: s3://datascience-workspace-dev/buyer-intent/user_interactions/tables/79690d24-e04a-40f0-8cd0-04aaa728424a/20190807_214128_00051_xejzz_b12ea100-ced1-4147-a0ee-b5a02d624e28\n",
      "delete: s3://datascience-workspace-dev/buyer-intent/user_interactions/tables/adb3ca66-017a-4c30-888f-a3d35c57869b/20190807_214900_00035_wsmk7_7158046f-8715-45a3-8e11-98fa5d3b7472\n",
      "delete: s3://datascience-workspace-dev/buyer-intent/user_interactions/tables/79690d24-e04a-40f0-8cd0-04aaa728424a.metadata\n",
      "delete: s3://datascience-workspace-dev/buyer-intent/user_interactions/tables/adb3ca66-017a-4c30-888f-a3d35c57869b.metadata\n",
      "delete: s3://datascience-workspace-dev/buyer-intent/user_interactions/tables/biui_sampled_100_consumer_analytical_profile_summary_t001/20190807_175442_00036_2smhf_392d575a-d055-4631-9fd2-bd92f51d8ce2\n",
      "delete: s3://datascience-workspace-dev/buyer-intent/user_interactions/tables/biui_sampled_100_consumer_analytical_profile_summary_t001/20190807_175442_00036_2smhf_0965372f-9689-4c2f-9191-ddc27a5ea140\n",
      "delete: s3://datascience-workspace-dev/buyer-intent/user_interactions/tables/biui_sampled_100_consumer_analytical_profile_summary_t001/20190807_175442_00036_2smhf_306dfba1-ee0d-408a-bd31-9b78d5a97a08\n",
      "delete: s3://datascience-workspace-dev/buyer-intent/user_interactions/tables/biui_sampled_100_consumer_analytical_profile_summary_t001/20190807_175442_00036_2smhf_400bec7d-8239-4943-8877-81f1dc1f7b1b\n",
      "delete: s3://datascience-workspace-dev/buyer-intent/user_interactions/tables/biui_sampled_100_consumer_analytical_profile_summary_t001/20190807_175442_00036_2smhf_4771e192-f8c2-4e77-b6f7-e951cd1067d6\n",
      "delete: s3://datascience-workspace-dev/buyer-intent/user_interactions/tables/biui_sampled_100_consumer_analytical_profile_summary_t001/20190807_175442_00036_2smhf_472d9ebf-7abb-4657-83a1-686264171f55\n",
      "delete: s3://datascience-workspace-dev/buyer-intent/user_interactions/tables/biui_sampled_100_consumer_analytical_profile_summary_t001/20190807_175442_00036_2smhf_67429259-a829-49cf-80ce-cc5ca24326b3\n",
      "delete: s3://datascience-workspace-dev/buyer-intent/user_interactions/tables/biui_sampled_100_consumer_analytical_profile_summary_t001/20190807_175442_00036_2smhf_4de0b9da-f0b5-432c-82d8-b2241e52f3b4\n",
      "delete: s3://datascience-workspace-dev/buyer-intent/user_interactions/tables/biui_sampled_100_consumer_analytical_profile_summary_t001/20190807_175442_00036_2smhf_606dc747-bc81-4026-b99a-f2bc5ce990a0\n",
      "delete: s3://datascience-workspace-dev/buyer-intent/user_interactions/tables/biui_sampled_100_consumer_analytical_profile_summary_t001/20190807_175442_00036_2smhf_5a39f96c-d57e-48f4-86ce-c32e371ba744\n",
      "delete: s3://datascience-workspace-dev/buyer-intent/user_interactions/tables/4f2a3a7d-cce2-4a8e-ab0f-2bcc4f72b069/20190807_215229_00072_pggst_84619c60-91b7-493c-9e25-dc0518e223a7\n",
      "delete: s3://datascience-workspace-dev/buyer-intent/user_interactions/tables/biui_sampled_100_consumer_analytical_profile_summary_t001/20190807_175442_00036_2smhf_70bbc630-6654-4339-acae-bd1cd89f49f1\n",
      "delete: s3://datascience-workspace-dev/buyer-intent/user_interactions/tables/biui_sampled_100_consumer_analytical_profile_summary_t001/20190807_175442_00036_2smhf_76fcd00f-ab02-4084-85ff-43f95b59b3a6\n",
      "delete: s3://datascience-workspace-dev/buyer-intent/user_interactions/tables/biui_sampled_100_consumer_analytical_profile_summary_t001/20190807_175442_00036_2smhf_9028653b-6c61-4ebe-807a-8c30184b4612\n",
      "delete: s3://datascience-workspace-dev/buyer-intent/user_interactions/tables/biui_sampled_100_consumer_analytical_profile_summary_t001/20190807_175442_00036_2smhf_98064433-49d1-4696-affc-0720d9784767\n",
      "delete: s3://datascience-workspace-dev/buyer-intent/user_interactions/tables/biui_sampled_100_consumer_analytical_profile_summary_t001/20190807_175442_00036_2smhf_75acf6ae-95a3-4710-9838-78a252a2054b\n",
      "delete: s3://datascience-workspace-dev/buyer-intent/user_interactions/tables/biui_sampled_100_consumer_analytical_profile_summary_t001/20190807_175442_00036_2smhf_a11229f0-b6d8-41e8-835b-f04275696678\n",
      "delete: s3://datascience-workspace-dev/buyer-intent/user_interactions/tables/biui_sampled_100_consumer_analytical_profile_summary_t001/20190807_175442_00036_2smhf_bcd48450-ec6b-498e-b3ef-3e997277897d\n",
      "delete: s3://datascience-workspace-dev/buyer-intent/user_interactions/tables/biui_sampled_100_consumer_analytical_profile_summary_t001/20190807_175442_00036_2smhf_938a39e7-81d9-47fd-91c8-96078c4dfb87\n",
      "delete: s3://datascience-workspace-dev/buyer-intent/user_interactions/tables/biui_sampled_100_consumer_analytical_profile_summary_t001/20190807_175442_00036_2smhf_ddb1f481-e952-44b8-8c11-b9894f11ec6b\n",
      "delete: s3://datascience-workspace-dev/buyer-intent/user_interactions/tables/biui_sampled_100_consumer_analytical_profile_summary_t001/20190807_175442_00036_2smhf_c3a287d3-08ad-468c-b834-309dca2d4daa\n",
      "delete: s3://datascience-workspace-dev/buyer-intent/user_interactions/tables/biui_sampled_100_consumer_analytical_profile_summary_t001/20190807_175442_00036_2smhf_e6e15141-75a1-4d91-ae6d-97c9b9ec85bb\n",
      "delete: s3://datascience-workspace-dev/buyer-intent/user_interactions/tables/biui_sampled_100_consumer_analytical_profile_summary_t007/20190807_175433_00033_2smhf_104b342b-18ac-477e-89a9-305591afef07\n",
      "delete: s3://datascience-workspace-dev/buyer-intent/user_interactions/tables/biui_sampled_100_consumer_analytical_profile_summary_t007/20190807_175433_00033_2smhf_105baaec-1bc4-4b28-b2a4-b22a41d5716a\n",
      "delete: s3://datascience-workspace-dev/buyer-intent/user_interactions/tables/biui_sampled_100_consumer_analytical_profile_summary_t007/20190807_175433_00033_2smhf_1a2f7901-8977-42c8-91ea-0a59aba48153\n",
      "delete: s3://datascience-workspace-dev/buyer-intent/user_interactions/tables/biui_sampled_100_consumer_analytical_profile_summary_t007/20190807_175433_00033_2smhf_20371087-8e9b-4453-96c5-b7bed98fdca1\n",
      "delete: s3://datascience-workspace-dev/buyer-intent/user_interactions/tables/biui_sampled_100_consumer_analytical_profile_summary_t007/20190807_175433_00033_2smhf_310d04c5-6013-4781-ac2d-daf407000002\n",
      "delete: s3://datascience-workspace-dev/buyer-intent/user_interactions/tables/biui_sampled_100_consumer_analytical_profile_summary_t007/20190807_175433_00033_2smhf_2906680d-6d36-4894-a9ce-28c15944b885\n",
      "delete: s3://datascience-workspace-dev/buyer-intent/user_interactions/tables/biui_sampled_100_consumer_analytical_profile_summary_t007/20190807_175433_00033_2smhf_3880fc20-4bf2-4309-a3e2-ce356912cef5\n",
      "delete: s3://datascience-workspace-dev/buyer-intent/user_interactions/tables/biui_sampled_100_consumer_analytical_profile_summary_t007/20190807_175433_00033_2smhf_3b1d0201-c400-4a13-8cc6-37a35be3943e\n",
      "delete: s3://datascience-workspace-dev/buyer-intent/user_interactions/tables/biui_sampled_100_consumer_analytical_profile_summary_t007/20190807_175433_00033_2smhf_3d4d62e3-1bcf-4dbe-99e0-99efe775bf46\n",
      "delete: s3://datascience-workspace-dev/buyer-intent/user_interactions/tables/biui_sampled_100_consumer_analytical_profile_summary_t007/20190807_175433_00033_2smhf_423dff73-30f3-456c-83a4-67b9212fa835\n",
      "delete: s3://datascience-workspace-dev/buyer-intent/user_interactions/tables/biui_sampled_100_consumer_analytical_profile_summary_t007/20190807_175433_00033_2smhf_5153e4b5-184b-4bf9-a3c0-274c32cd80d7\n",
      "delete: s3://datascience-workspace-dev/buyer-intent/user_interactions/tables/biui_sampled_100_consumer_analytical_profile_summary_t001/20190807_175442_00036_2smhf_bdecf24e-096e-49d9-91fb-9891d96695c2\n",
      "delete: s3://datascience-workspace-dev/buyer-intent/user_interactions/tables/biui_sampled_100_consumer_analytical_profile_summary_t001/20190807_175442_00036_2smhf_904ab993-4aef-48b0-81d3-110bf14e41bf\n",
      "delete: s3://datascience-workspace-dev/buyer-intent/user_interactions/tables/biui_sampled_100_consumer_analytical_profile_summary_t007/20190807_175433_00033_2smhf_259c78fe-31a6-4695-9d78-f79de7c387ae\n",
      "delete: s3://datascience-workspace-dev/buyer-intent/user_interactions/tables/biui_sampled_100_consumer_analytical_profile_summary_t007/20190807_175433_00033_2smhf_75d08cfd-63a9-4aa1-b95b-b4e66aab48b9\n",
      "delete: s3://datascience-workspace-dev/buyer-intent/user_interactions/tables/biui_sampled_100_consumer_analytical_profile_summary_t007/20190807_175433_00033_2smhf_7747e94f-0c00-46d3-ace4-60c5b27cd699\n",
      "delete: s3://datascience-workspace-dev/buyer-intent/user_interactions/tables/biui_sampled_100_consumer_analytical_profile_summary_t007/20190807_175433_00033_2smhf_786d6b28-9bec-48e8-bbd2-d20eba3e198b\n",
      "delete: s3://datascience-workspace-dev/buyer-intent/user_interactions/tables/biui_sampled_100_consumer_analytical_profile_summary_t007/20190807_175433_00033_2smhf_7e8c788f-0ee9-43ce-9308-165b323ce9af\n",
      "delete: s3://datascience-workspace-dev/buyer-intent/user_interactions/tables/biui_sampled_100_consumer_analytical_profile_summary_t007/20190807_175433_00033_2smhf_689f0887-5600-43bb-bb1e-45ac0453c5b3\n",
      "delete: s3://datascience-workspace-dev/buyer-intent/user_interactions/tables/biui_sampled_100_consumer_analytical_profile_summary_t007/20190807_175433_00033_2smhf_882d782e-596f-46ff-a329-1c9b196a2770\n",
      "delete: s3://datascience-workspace-dev/buyer-intent/user_interactions/tables/biui_sampled_100_consumer_analytical_profile_summary_t007/20190807_175433_00033_2smhf_aabb3eed-397e-4536-bacf-38870b0d4277\n",
      "delete: s3://datascience-workspace-dev/buyer-intent/user_interactions/tables/biui_sampled_100_consumer_analytical_profile_summary_t007/20190807_175433_00033_2smhf_478d02ee-814c-490b-9482-d987db0dd75e\n",
      "delete: s3://datascience-workspace-dev/buyer-intent/user_interactions/tables/biui_sampled_100_consumer_analytical_profile_summary_t007/20190807_175433_00033_2smhf_8894291b-7812-4589-8135-3da39f184596\n",
      "delete: s3://datascience-workspace-dev/buyer-intent/user_interactions/tables/biui_sampled_100_consumer_analytical_profile_summary_t007/20190807_175433_00033_2smhf_becfdd29-31aa-43e7-9956-bb5899ebff4d\n",
      "delete: s3://datascience-workspace-dev/buyer-intent/user_interactions/tables/biui_sampled_100_consumer_analytical_profile_summary_t007/20190807_175433_00033_2smhf_d45864e3-30d5-493c-aae2-b19cc17e3b93\n",
      "delete: s3://datascience-workspace-dev/buyer-intent/user_interactions/tables/biui_sampled_100_consumer_analytical_profile_summary_t007/20190807_175433_00033_2smhf_dde0c153-0334-4b79-bb2c-0b426f20cf21\n",
      "delete: s3://datascience-workspace-dev/buyer-intent/user_interactions/tables/biui_sampled_100_consumer_analytical_profile_summary_t007/20190807_175433_00033_2smhf_e947db0c-ae36-4d8c-8712-a44af2fccf11\n",
      "delete: s3://datascience-workspace-dev/buyer-intent/user_interactions/tables/biui_sampled_100_consumer_analytical_profile_summary_t007/20190807_175433_00033_2smhf_e958b2a6-bb50-42e8-99da-a464ee5f6247\n",
      "delete: s3://datascience-workspace-dev/buyer-intent/user_interactions/tables/biui_sampled_100_consumer_analytical_profile_summary_t001/20190807_175442_00036_2smhf_afb4bb92-905e-4884-bb77-0d08e8d25ba8\n",
      "delete: s3://datascience-workspace-dev/buyer-intent/user_interactions/tables/biui_sampled_100_consumer_analytical_profile_summary_t007/20190807_175433_00033_2smhf_ea7d5620-165e-4627-ac07-d4272b4c7547\n",
      "delete: s3://datascience-workspace-dev/buyer-intent/user_interactions/tables/biui_sampled_100_consumer_analytical_profile_summary_t030/20190807_175414_00032_2smhf_0861a740-78db-46a1-b96a-381187379fba\n",
      "delete: s3://datascience-workspace-dev/buyer-intent/user_interactions/tables/biui_sampled_100_consumer_analytical_profile_summary_t007/20190807_175433_00033_2smhf_fbebaebb-774a-4d8a-871d-49914d2209f7\n",
      "delete: s3://datascience-workspace-dev/buyer-intent/user_interactions/tables/biui_sampled_100_consumer_analytical_profile_summary_t007/20190807_175433_00033_2smhf_a1d76dc5-2672-49c2-ae88-6bb2dac19c48\n",
      "delete: s3://datascience-workspace-dev/buyer-intent/user_interactions/tables/biui_sampled_100_consumer_analytical_profile_summary_t030/20190807_175414_00032_2smhf_08b59c1e-8cd4-4d56-8289-8860b07ea485\n",
      "delete: s3://datascience-workspace-dev/buyer-intent/user_interactions/tables/biui_sampled_100_consumer_analytical_profile_summary_t030/20190807_175414_00032_2smhf_0a7f5096-1f74-4159-915a-7af0cc1b788e\n",
      "delete: s3://datascience-workspace-dev/buyer-intent/user_interactions/tables/biui_sampled_100_consumer_analytical_profile_summary_t030/20190807_175414_00032_2smhf_1b7e4494-1952-42a0-b01b-9ab6a0bc2613\n",
      "delete: s3://datascience-workspace-dev/buyer-intent/user_interactions/tables/biui_sampled_100_consumer_analytical_profile_summary_t030/20190807_175414_00032_2smhf_21e2e5a4-d0f3-46fc-b8f1-2276e56e54b5\n",
      "delete: s3://datascience-workspace-dev/buyer-intent/user_interactions/tables/biui_sampled_100_consumer_analytical_profile_summary_t030/20190807_175414_00032_2smhf_39ab321c-cdec-4145-bbcf-0b99be31b91d\n",
      "delete: s3://datascience-workspace-dev/buyer-intent/user_interactions/tables/biui_sampled_100_consumer_analytical_profile_summary_t030/20190807_175414_00032_2smhf_3d789e76-a915-45d6-989f-1afef5eaf637\n",
      "delete: s3://datascience-workspace-dev/buyer-intent/user_interactions/tables/biui_sampled_100_consumer_analytical_profile_summary_t030/20190807_175414_00032_2smhf_60c1fc6f-0aa3-4c4f-b3ca-96ac57e3290b\n",
      "delete: s3://datascience-workspace-dev/buyer-intent/user_interactions/tables/biui_sampled_100_consumer_analytical_profile_summary_t030/20190807_175414_00032_2smhf_62e3743c-ad47-42a0-831c-e50bdb563ab2\n",
      "delete: s3://datascience-workspace-dev/buyer-intent/user_interactions/tables/biui_sampled_100_consumer_analytical_profile_summary_t030/20190807_175414_00032_2smhf_6e2ec595-24be-4d15-97c8-8349ff84405a\n",
      "delete: s3://datascience-workspace-dev/buyer-intent/user_interactions/tables/biui_sampled_100_consumer_analytical_profile_summary_t030/20190807_175414_00032_2smhf_787110a5-4938-4c3c-84ca-862b6819ac6a\n",
      "delete: s3://datascience-workspace-dev/buyer-intent/user_interactions/tables/biui_sampled_100_consumer_analytical_profile_summary_t030/20190807_175414_00032_2smhf_79b7972a-87be-490a-8ae7-81923725f914\n",
      "delete: s3://datascience-workspace-dev/buyer-intent/user_interactions/tables/biui_sampled_100_consumer_analytical_profile_summary_t030/20190807_175414_00032_2smhf_7a9bfaf0-7374-42d6-8094-8500176ff6e4\n",
      "delete: s3://datascience-workspace-dev/buyer-intent/user_interactions/tables/biui_sampled_100_consumer_analytical_profile_summary_t030/20190807_175414_00032_2smhf_80ce10f9-fc51-4c61-b782-43656019c2eb\n",
      "delete: s3://datascience-workspace-dev/buyer-intent/user_interactions/tables/biui_sampled_100_consumer_analytical_profile_summary_t030/20190807_175414_00032_2smhf_8ae3b2be-2a7f-48b9-b8db-c5bb4fb6fdb4\n",
      "delete: s3://datascience-workspace-dev/buyer-intent/user_interactions/tables/biui_sampled_100_consumer_analytical_profile_summary_t030/20190807_175414_00032_2smhf_8c5bbc0f-a262-4549-9c7e-f10f45af51d4\n",
      "delete: s3://datascience-workspace-dev/buyer-intent/user_interactions/tables/biui_sampled_100_consumer_analytical_profile_summary_t030/20190807_175414_00032_2smhf_a75441e8-6228-4dd4-988c-6b2c7429d19c\n",
      "delete: s3://datascience-workspace-dev/buyer-intent/user_interactions/tables/biui_sampled_100_consumer_analytical_profile_summary_t030/20190807_175414_00032_2smhf_6fc0373e-6361-4953-9ac9-a01d0bea8e52\n",
      "delete: s3://datascience-workspace-dev/buyer-intent/user_interactions/tables/biui_sampled_100_consumer_analytical_profile_summary_t030/20190807_175414_00032_2smhf_8ee52c61-e33e-4319-af8f-7f32438e96c8\n",
      "delete: s3://datascience-workspace-dev/buyer-intent/user_interactions/tables/biui_sampled_100_consumer_analytical_profile_summary_t030/20190807_175414_00032_2smhf_a8c783b9-2033-40ea-b15b-a95b95e66bd7\n",
      "delete: s3://datascience-workspace-dev/buyer-intent/user_interactions/tables/biui_sampled_100_consumer_analytical_profile_summary_t030/20190807_175414_00032_2smhf_aa254a75-88c2-4820-8edb-d20e9a528853\n",
      "delete: s3://datascience-workspace-dev/buyer-intent/user_interactions/tables/biui_sampled_100_consumer_analytical_profile_summary_t007/20190807_175433_00033_2smhf_e94bd983-12c3-428d-b6e9-fc340e7fd826\n",
      "delete: s3://datascience-workspace-dev/buyer-intent/user_interactions/tables/biui_sampled_100_consumer_analytical_profile_summary_t030/20190807_175414_00032_2smhf_cbbe90e6-5b0a-466b-8d99-1eaaa7b4832b\n",
      "delete: s3://datascience-workspace-dev/buyer-intent/user_interactions/tables/biui_sampled_100_consumer_analytical_profile_summary_t030/20190807_175414_00032_2smhf_e34e7dd6-62a5-489d-9f2a-07bd9bdcffbd\n",
      "delete: s3://datascience-workspace-dev/buyer-intent/user_interactions/tables/biui_sampled_100_consumer_analytical_profile_summary_t030/20190807_175414_00032_2smhf_db270f73-840c-4cae-ae1b-35d6586b01be\n",
      "delete: s3://datascience-workspace-dev/buyer-intent/user_interactions/tables/biui_sampled_100_consumer_analytical_profile_summary_t030/20190807_175414_00032_2smhf_eaa777bb-cd4b-4a15-80dd-cb39c4447c95\n",
      "delete: s3://datascience-workspace-dev/buyer-intent/user_interactions/tables/biui_sampled_100_consumer_analytical_profile_summary_t030/20190807_175414_00032_2smhf_f0e05a23-b102-47df-be1d-e770169fb1d0\n",
      "delete: s3://datascience-workspace-dev/buyer-intent/user_interactions/tables/biui_sampled_100_consumer_analytical_profile_summary_t030/20190807_175414_00032_2smhf_86956fa1-c7d4-4d7d-b1b6-431f8188c614\n",
      "delete: s3://datascience-workspace-dev/buyer-intent/user_interactions/tables/biui_sampled_100_consumer_analytical_profile_summary_t180/20190807_175351_00029_2smhf_00f09cc3-9a06-4c38-9c6a-7695bfef6f39\n",
      "delete: s3://datascience-workspace-dev/buyer-intent/user_interactions/tables/biui_sampled_100_consumer_analytical_profile_summary_t030/20190807_175414_00032_2smhf_f0ead491-6e4d-4aee-b6bc-79e6f75b7132\n",
      "delete: s3://datascience-workspace-dev/buyer-intent/user_interactions/tables/biui_sampled_100_consumer_analytical_profile_summary_t030/20190807_175414_00032_2smhf_f24a3cbf-2fd0-41a7-b12c-037d5fbfbdd5\n",
      "delete: s3://datascience-workspace-dev/buyer-intent/user_interactions/tables/biui_sampled_100_consumer_analytical_profile_summary_t030/20190807_175414_00032_2smhf_dedd20d5-087b-4f59-99e9-8c418a8a48b6\n",
      "delete: s3://datascience-workspace-dev/buyer-intent/user_interactions/tables/biui_sampled_100_consumer_analytical_profile_summary_t180/20190807_175351_00029_2smhf_07f571c9-e9a9-4ac0-b9fc-3429c9b5a29b\n",
      "delete: s3://datascience-workspace-dev/buyer-intent/user_interactions/tables/biui_sampled_100_consumer_analytical_profile_summary_t180/20190807_175351_00029_2smhf_0517b0c3-3908-454e-9ddb-c64b968d8868\n",
      "delete: s3://datascience-workspace-dev/buyer-intent/user_interactions/tables/biui_sampled_100_consumer_analytical_profile_summary_t180/20190807_175351_00029_2smhf_5279bd55-9feb-4790-86c5-609143aa4f84\n",
      "delete: s3://datascience-workspace-dev/buyer-intent/user_interactions/tables/biui_sampled_100_consumer_analytical_profile_summary_t180/20190807_175351_00029_2smhf_4d1e86b9-5fd8-41dc-9a94-fe60b1adb377\n",
      "delete: s3://datascience-workspace-dev/buyer-intent/user_interactions/tables/biui_sampled_100_consumer_analytical_profile_summary_t180/20190807_175351_00029_2smhf_31e6e7c9-ad77-45bc-8b72-09b7d49f4815\n",
      "delete: s3://datascience-workspace-dev/buyer-intent/user_interactions/tables/biui_sampled_100_consumer_analytical_profile_summary_t180/20190807_175351_00029_2smhf_6d2cfd7a-a762-40ea-996e-ba38f8ace450\n",
      "delete: s3://datascience-workspace-dev/buyer-intent/user_interactions/tables/biui_sampled_100_consumer_analytical_profile_summary_t180/20190807_175351_00029_2smhf_55de19d9-5bbb-4aa1-9c92-ae07af4ae1d7\n",
      "delete: s3://datascience-workspace-dev/buyer-intent/user_interactions/tables/biui_sampled_100_consumer_analytical_profile_summary_t180/20190807_175351_00029_2smhf_60796484-dc96-49b7-9d65-ace803949726\n",
      "delete: s3://datascience-workspace-dev/buyer-intent/user_interactions/tables/biui_sampled_100_consumer_analytical_profile_summary_t180/20190807_175351_00029_2smhf_78952ec6-4a98-4238-b33f-28a46bc77ff6\n",
      "delete: s3://datascience-workspace-dev/buyer-intent/user_interactions/tables/biui_sampled_100_consumer_analytical_profile_summary_t180/20190807_175351_00029_2smhf_6dfda5c9-c5b7-4100-b911-424e42996e4c\n",
      "delete: s3://datascience-workspace-dev/buyer-intent/user_interactions/tables/biui_sampled_100_consumer_analytical_profile_summary_t180/20190807_175351_00029_2smhf_56576bca-6119-4ed6-a3b7-ff307e4e033e\n",
      "delete: s3://datascience-workspace-dev/buyer-intent/user_interactions/tables/biui_sampled_100_consumer_analytical_profile_summary_t180/20190807_175351_00029_2smhf_578247af-d0d4-4359-a313-3daadfe6039d\n",
      "delete: s3://datascience-workspace-dev/buyer-intent/user_interactions/tables/biui_sampled_100_consumer_analytical_profile_summary_t180/20190807_175351_00029_2smhf_7bd9a26e-4ba3-4a56-b710-83781fee7ee7\n",
      "delete: s3://datascience-workspace-dev/buyer-intent/user_interactions/tables/biui_sampled_100_consumer_analytical_profile_summary_t180/20190807_175351_00029_2smhf_7b942672-df87-48a3-985e-46f159a3dad9\n",
      "delete: s3://datascience-workspace-dev/buyer-intent/user_interactions/tables/biui_sampled_100_consumer_analytical_profile_summary_t180/20190807_175351_00029_2smhf_81bbae00-9826-402d-a87b-22d856095649\n",
      "delete: s3://datascience-workspace-dev/buyer-intent/user_interactions/tables/biui_sampled_100_consumer_analytical_profile_summary_t180/20190807_175351_00029_2smhf_8a340a6b-55aa-4cb5-aaeb-567df6722c42\n",
      "delete: s3://datascience-workspace-dev/buyer-intent/user_interactions/tables/biui_sampled_100_consumer_analytical_profile_summary_t180/20190807_175351_00029_2smhf_9712a01a-da32-40ea-81a2-6b8fd0abfe9e\n",
      "delete: s3://datascience-workspace-dev/buyer-intent/user_interactions/tables/biui_sampled_100_consumer_analytical_profile_summary_t180/20190807_175351_00029_2smhf_a26a42ed-d216-4d50-a7e0-e392a68ad899\n",
      "delete: s3://datascience-workspace-dev/buyer-intent/user_interactions/tables/biui_sampled_100_consumer_analytical_profile_summary_t180/20190807_175351_00029_2smhf_a0ee638c-1a90-46bb-957a-2ad54647874f\n",
      "delete: s3://datascience-workspace-dev/buyer-intent/user_interactions/tables/biui_sampled_100_consumer_analytical_profile_summary_t180/20190807_175351_00029_2smhf_a5783b57-27dc-41c3-bec6-22d8b5099480\n",
      "delete: s3://datascience-workspace-dev/buyer-intent/user_interactions/tables/biui_sampled_100_consumer_analytical_profile_summary_t180/20190807_175351_00029_2smhf_b36ff4af-b04e-4e03-b1c5-5c10aa37f834\n",
      "delete: s3://datascience-workspace-dev/buyer-intent/user_interactions/tables/biui_sampled_100_consumer_analytical_profile_summary_t180/20190807_175351_00029_2smhf_baecdcc9-1510-4e32-8806-3ae901a36066\n",
      "delete: s3://datascience-workspace-dev/buyer-intent/user_interactions/tables/biui_sampled_100_consumer_analytical_profile_summary_t180/20190807_175351_00029_2smhf_b47e95e4-46d4-46c7-a8ed-82198d414c74\n",
      "delete: s3://datascience-workspace-dev/buyer-intent/user_interactions/tables/biui_sampled_100_consumer_analytical_profile_summary_t180/20190807_175351_00029_2smhf_d0875489-5e02-459f-b822-1bba5fd029b2\n",
      "delete: s3://datascience-workspace-dev/buyer-intent/user_interactions/tables/biui_sampled_100_consumer_analytical_profile_summary_t180/20190807_175351_00029_2smhf_cfc4a953-10a9-458d-82a7-2bff8bc20924\n",
      "delete: s3://datascience-workspace-dev/buyer-intent/user_interactions/tables/biui_sampled_100_consumer_analytical_profile_summary_t180/20190807_175351_00029_2smhf_d40ded76-4b5f-4b7e-8b71-6184f75aaa09\n",
      "delete: s3://datascience-workspace-dev/buyer-intent/user_interactions/tables/biui_sampled_100_consumer_analytical_profile_summary_t180/20190807_175351_00029_2smhf_ddfbfe8a-43d1-44f4-a28d-836f64086ecc\n",
      "delete: s3://datascience-workspace-dev/buyer-intent/user_interactions/tables/biui_sampled_100_consumer_analytical_profile_summary_t180/20190807_175351_00029_2smhf_ffc3c122-437e-41b7-9c3d-3acd2a25922b\n",
      "delete: s3://datascience-workspace-dev/buyer-intent/user_interactions/tables/dce31a51-03c0-4b5a-8610-27a53ce7c214.metadata\n",
      "delete: s3://datascience-workspace-dev/buyer-intent/user_interactions/tables/biui_sampled_100_consumer_analytical_profile_summary_t180/20190807_175351_00029_2smhf_fbd90845-66de-4e1e-8a98-4d966e4a56e2\n",
      "delete: s3://datascience-workspace-dev/buyer-intent/user_interactions/tables/d377871d-69f0-43b5-872b-872713ded018/20190807_215430_00075_v9ybj_83ece49a-ba0a-4112-815d-d582085a8779\n",
      "delete: s3://datascience-workspace-dev/buyer-intent/user_interactions/tables/d377871d-69f0-43b5-872b-872713ded018.metadata\n",
      "delete: s3://datascience-workspace-dev/buyer-intent/user_interactions/tables/eb2dc0fd-a947-4680-8d3e-304c8b56b5dd.metadata\n",
      "delete: s3://datascience-workspace-dev/buyer-intent/user_interactions/tables/dce31a51-03c0-4b5a-8610-27a53ce7c214/20190807_215219_00071_pggst_98b9a27c-adcc-4ce3-9f1e-a2260eb6c4cb\n",
      "delete: s3://datascience-workspace-dev/buyer-intent/user_interactions/tables/eb2dc0fd-a947-4680-8d3e-304c8b56b5dd/20190807_214508_00017_exeif_4394d6a4-8cd4-4098-94c8-69657e5e7884\n",
      "delete: s3://datascience-workspace-dev/buyer-intent/user_interactions/tables/f7f6c468-b0f6-49e7-b000-5c6d84b87fc4.metadata\n"
     ]
    }
   ],
   "source": [
    "!aws s3 rm --recursive s3://datascience-workspace-dev/buyer-intent/user_interactions/tables/"
   ]
  },
  {
   "cell_type": "markdown",
   "metadata": {},
   "source": [
    "user_interactions_s3_path = 's3://datascience-workspace-dev/buyer-intent/user_interactions'\n",
    "!aws s3 rm --recursive s3://datascience-workspace-dev/buyer-intent/user_interactions/tables/"
   ]
  },
  {
   "cell_type": "raw",
   "metadata": {},
   "source": [
    "Following are the tests for utility class. \n",
    "At first we get the preview of a table then we compute statistical functions"
   ]
  },
  {
   "cell_type": "code",
   "execution_count": 74,
   "metadata": {
    "jupyter": {
     "source_hidden": true
    }
   },
   "outputs": [
    {
     "name": "stdout",
     "output_type": "stream",
     "text": [
      "2019-08-07 21:58:01.202 INFO athena_util.py.111 - Read config from default schema\n",
      "2019-08-07 21:58:01.204 INFO athena_util.py.114 - Schema fetched from default config file:\n"
     ]
    }
   ],
   "source": [
    "user_interactions_db_handler= FeatureEngineeringUtilities(db_name= 'buyer_intent_user_interactions', \n",
    "                                                          db_path_on_s3 = 's3://datascience-workspace-dev/buyer-intent/user_interactions', \n",
    "                                                          logger_name = 'bi_study_report_initial')"
   ]
  },
  {
   "cell_type": "code",
   "execution_count": 75,
   "metadata": {
    "collapsed": true,
    "jupyter": {
     "outputs_hidden": true
    }
   },
   "outputs": [
    {
     "name": "stdout",
     "output_type": "stream",
     "text": [
      "2019-08-07 21:58:02.641 INFO athena_util.py.441 - s3://datascience-workspace-dev/buyer-intent/user_interactions\n",
      "2019-08-07 21:58:02.721 INFO athena_util.py.462 - 2019-08-07 21:58:02.721708\n",
      "2019-08-07 21:58:04.784 INFO athena_util.py.464 - 2019-08-07 21:58:04.784306\n"
     ]
    },
    {
     "data": {
      "text/plain": [
       "0"
      ]
     },
     "execution_count": 75,
     "metadata": {},
     "output_type": "execute_result"
    }
   ],
   "source": [
    "user_interactions_db_handler.drop_table('test_table_new')"
   ]
  },
  {
   "cell_type": "code",
   "execution_count": 76,
   "metadata": {},
   "outputs": [
    {
     "name": "stdout",
     "output_type": "stream",
     "text": [
      "2019-08-07 21:58:05.780 INFO athena_util.py.441 - s3://datascience-workspace-dev/buyer-intent/user_interactions\n",
      "2019-08-07 21:58:05.843 INFO athena_util.py.462 - 2019-08-07 21:58:05.843935\n",
      "2019-08-07 21:58:12.063 INFO athena_util.py.464 - 2019-08-07 21:58:12.063557\n"
     ]
    }
   ],
   "source": [
    "res = user_interactions_db_handler.create_table_preview('biui_consumer_analytical_profile_summary_t030', \n",
    "                                                        \"test_table_new\", \n",
    "                                                        10)"
   ]
  },
  {
   "cell_type": "code",
   "execution_count": 77,
   "metadata": {
    "collapsed": true,
    "jupyter": {
     "outputs_hidden": true
    }
   },
   "outputs": [
    {
     "name": "stdout",
     "output_type": "stream",
     "text": [
      "0\n"
     ]
    }
   ],
   "source": [
    "print(res)"
   ]
  },
  {
   "cell_type": "code",
   "execution_count": 78,
   "metadata": {
    "collapsed": true,
    "jupyter": {
     "outputs_hidden": true
    }
   },
   "outputs": [
    {
     "name": "stdout",
     "output_type": "stream",
     "text": [
      "2019-08-07 21:58:15.399 INFO athena_util.py.441 - s3://datascience-workspace-dev/buyer-intent/user_interactions\n",
      "2019-08-07 21:58:15.468 INFO athena_util.py.462 - 2019-08-07 21:58:15.468942\n",
      "2019-08-07 21:58:19.082 INFO athena_util.py.464 - 2019-08-07 21:58:19.082808\n"
     ]
    }
   ],
   "source": [
    "res = user_interactions_db_handler.select_columns_from_table(from_table_name= \"test_table_new\", to_table_name =\"test_table_new_1\", column_list=['member_id', 'average_ldp_page_views'])"
   ]
  },
  {
   "cell_type": "code",
   "execution_count": 79,
   "metadata": {
    "collapsed": true,
    "jupyter": {
     "outputs_hidden": true
    }
   },
   "outputs": [
    {
     "name": "stdout",
     "output_type": "stream",
     "text": [
      "2019-08-07 21:58:20.990 INFO athena_util.py.441 - s3://datascience-workspace-dev/buyer-intent/user_interactions\n",
      "2019-08-07 21:58:21.049 INFO athena_util.py.462 - 2019-08-07 21:58:21.049736\n",
      "2019-08-07 21:58:23.121 INFO athena_util.py.464 - 2019-08-07 21:58:23.121048\n"
     ]
    },
    {
     "data": {
      "text/plain": [
       "{'UpdateCount': 0,\n",
       " 'ResultSet': {'Rows': [{'Data': [{'VarCharValue': 'biui_consumer_analytical_profile_summary_t001'}]},\n",
       "   {'Data': [{'VarCharValue': 'biui_consumer_analytical_profile_summary_t007'}]},\n",
       "   {'Data': [{'VarCharValue': 'biui_consumer_analytical_profile_summary_t030'}]},\n",
       "   {'Data': [{'VarCharValue': 'biui_consumer_analytical_profile_summary_t180'}]},\n",
       "   {'Data': [{'VarCharValue': 'biui_consumer_profile_daily'}]},\n",
       "   {'Data': [{'VarCharValue': 'biui_sampled_100_consumer_analytical_profile_summary_t001'}]},\n",
       "   {'Data': [{'VarCharValue': 'biui_sampled_100_consumer_analytical_profile_summary_t007'}]},\n",
       "   {'Data': [{'VarCharValue': 'biui_sampled_100_consumer_analytical_profile_summary_t030'}]},\n",
       "   {'Data': [{'VarCharValue': 'biui_sampled_100_consumer_analytical_profile_summary_t180'}]},\n",
       "   {'Data': [{'VarCharValue': 'test_table_new'}]},\n",
       "   {'Data': [{'VarCharValue': 'test_table_new_1'}]}],\n",
       "  'ResultSetMetadata': {'ColumnInfo': [{'CatalogName': 'hive',\n",
       "     'SchemaName': '',\n",
       "     'TableName': '',\n",
       "     'Name': 'tab_name',\n",
       "     'Label': 'tab_name',\n",
       "     'Type': 'string',\n",
       "     'Precision': 0,\n",
       "     'Scale': 0,\n",
       "     'Nullable': 'UNKNOWN',\n",
       "     'CaseSensitive': False}]}},\n",
       " 'ResponseMetadata': {'RequestId': '067727a9-a1a9-406a-92a2-568a5330d37f',\n",
       "  'HTTPStatusCode': 200,\n",
       "  'HTTPHeaders': {'content-type': 'application/x-amz-json-1.1',\n",
       "   'date': 'Wed, 07 Aug 2019 21:58:22 GMT',\n",
       "   'x-amzn-requestid': '067727a9-a1a9-406a-92a2-568a5330d37f',\n",
       "   'content-length': None,\n",
       "   'connection': 'keep-alive'},\n",
       "  'RetryAttempts': 0}}"
      ]
     },
     "execution_count": 79,
     "metadata": {},
     "output_type": "execute_result"
    }
   ],
   "source": [
    "user_interactions_db_handler.get_table_names_in_db()"
   ]
  },
  {
   "cell_type": "code",
   "execution_count": 80,
   "metadata": {
    "collapsed": true,
    "jupyter": {
     "outputs_hidden": true
    }
   },
   "outputs": [
    {
     "name": "stdout",
     "output_type": "stream",
     "text": [
      "2019-08-07 21:58:23.228 INFO athena_util.py.441 - s3://datascience-workspace-dev/buyer-intent/user_interactions\n",
      "2019-08-07 21:58:23.295 INFO athena_util.py.462 - 2019-08-07 21:58:23.295913\n",
      "2019-08-07 21:58:24.843 INFO athena_util.py.464 - 2019-08-07 21:58:24.843766\n"
     ]
    },
    {
     "data": {
      "text/plain": [
       "'4.0'"
      ]
     },
     "execution_count": 80,
     "metadata": {},
     "output_type": "execute_result"
    }
   ],
   "source": [
    "user_interactions_db_handler.get_max_of_an_attribute('test_table_new',\n",
    "                                                     'average_distinct_listings_viewed')"
   ]
  },
  {
   "cell_type": "code",
   "execution_count": 81,
   "metadata": {
    "collapsed": true,
    "jupyter": {
     "outputs_hidden": true
    }
   },
   "outputs": [
    {
     "name": "stdout",
     "output_type": "stream",
     "text": [
      "2019-08-07 21:58:30.224 INFO athena_util.py.441 - s3://datascience-workspace-dev/buyer-intent/user_interactions\n",
      "2019-08-07 21:58:30.344 INFO athena_util.py.462 - 2019-08-07 21:58:30.344547\n",
      "2019-08-07 21:58:33.442 INFO athena_util.py.464 - 2019-08-07 21:58:33.442906\n"
     ]
    },
    {
     "data": {
      "text/plain": [
       "'1.0'"
      ]
     },
     "execution_count": 81,
     "metadata": {},
     "output_type": "execute_result"
    }
   ],
   "source": [
    "user_interactions_db_handler.get_min_of_an_attribute('test_table_new',\n",
    "                                                     'average_distinct_listings_viewed')"
   ]
  },
  {
   "cell_type": "code",
   "execution_count": 82,
   "metadata": {
    "collapsed": true,
    "jupyter": {
     "outputs_hidden": true
    }
   },
   "outputs": [
    {
     "name": "stdout",
     "output_type": "stream",
     "text": [
      "2019-08-07 21:58:33.544 INFO athena_util.py.441 - s3://datascience-workspace-dev/buyer-intent/user_interactions\n",
      "2019-08-07 21:58:33.604 INFO athena_util.py.462 - 2019-08-07 21:58:33.604528\n",
      "2019-08-07 21:58:35.149 INFO athena_util.py.464 - 2019-08-07 21:58:35.149146\n"
     ]
    },
    {
     "data": {
      "text/plain": [
       "'2'"
      ]
     },
     "execution_count": 82,
     "metadata": {},
     "output_type": "execute_result"
    }
   ],
   "source": [
    "user_interactions_db_handler.get_avg_of_an_attribute('test_table_new',\n",
    "                                                     'average_distinct_listings_viewed')"
   ]
  },
  {
   "cell_type": "code",
   "execution_count": 83,
   "metadata": {
    "collapsed": true,
    "jupyter": {
     "outputs_hidden": true
    }
   },
   "outputs": [
    {
     "name": "stdout",
     "output_type": "stream",
     "text": [
      "2019-08-07 21:58:35.241 INFO athena_util.py.441 - s3://datascience-workspace-dev/buyer-intent/user_interactions\n",
      "2019-08-07 21:58:35.298 INFO athena_util.py.462 - 2019-08-07 21:58:35.298295\n",
      "2019-08-07 21:58:36.845 INFO athena_util.py.464 - 2019-08-07 21:58:36.845193\n"
     ]
    },
    {
     "data": {
      "text/plain": [
       "'1.1005049346146119'"
      ]
     },
     "execution_count": 83,
     "metadata": {},
     "output_type": "execute_result"
    }
   ],
   "source": [
    "user_interactions_db_handler.get_std_of_an_attribute('test_table_new',\n",
    "                                                     'average_distinct_listings_viewed')"
   ]
  },
  {
   "cell_type": "code",
   "execution_count": 84,
   "metadata": {
    "collapsed": true,
    "jupyter": {
     "outputs_hidden": true
    }
   },
   "outputs": [
    {
     "name": "stdout",
     "output_type": "stream",
     "text": [
      "2019-08-07 21:58:36.930 INFO athena_util.py.441 - s3://datascience-workspace-dev/buyer-intent/user_interactions\n",
      "2019-08-07 21:58:36.991 INFO athena_util.py.462 - 2019-08-07 21:58:36.991342\n",
      "2019-08-07 21:58:38.536 INFO athena_util.py.464 - 2019-08-07 21:58:38.536221\n"
     ]
    },
    {
     "data": {
      "text/plain": [
       "'4.0'"
      ]
     },
     "execution_count": 84,
     "metadata": {},
     "output_type": "execute_result"
    }
   ],
   "source": [
    "user_interactions_db_handler.get_percentile_of_an_attribute('test_table_new',\n",
    "                                                            'average_distinct_listings_viewed', \n",
    "                                                            0.9)"
   ]
  },
  {
   "cell_type": "code",
   "execution_count": 85,
   "metadata": {
    "collapsed": true,
    "jupyter": {
     "outputs_hidden": true,
     "source_hidden": true
    }
   },
   "outputs": [
    {
     "name": "stdout",
     "output_type": "stream",
     "text": [
      "2019-08-07 21:58:38.673 INFO athena_util.py.441 - s3://datascience-workspace-dev/buyer-intent/user_interactions\n",
      "2019-08-07 21:58:38.747 INFO athena_util.py.462 - 2019-08-07 21:58:38.747975\n",
      "2019-08-07 21:58:40.293 INFO athena_util.py.464 - 2019-08-07 21:58:40.293761\n"
     ]
    }
   ],
   "source": [
    "res = user_interactions_db_handler.get_histogram_of_an_attribute('test_table_new', 10, 'average_distinct_listings_viewed')"
   ]
  },
  {
   "cell_type": "code",
   "execution_count": 86,
   "metadata": {
    "collapsed": true,
    "jupyter": {
     "outputs_hidden": true
    }
   },
   "outputs": [
    {
     "name": "stdout",
     "output_type": "stream",
     "text": [
      "{1.0: 4.0, 2.0: 2.0, 3.0: 3.0, 4.0: 1.0}\n"
     ]
    }
   ],
   "source": [
    "print(res)"
   ]
  },
  {
   "cell_type": "code",
   "execution_count": 87,
   "metadata": {
    "collapsed": true,
    "jupyter": {
     "outputs_hidden": true
    }
   },
   "outputs": [
    {
     "name": "stdout",
     "output_type": "stream",
     "text": [
      "2019-08-07 21:58:41.623 INFO athena_util.py.441 - s3://datascience-workspace-dev/buyer-intent/user_interactions\n",
      "2019-08-07 21:58:41.726 INFO athena_util.py.462 - 2019-08-07 21:58:41.726855\n",
      "2019-08-07 21:58:43.278 INFO athena_util.py.464 - 2019-08-07 21:58:43.278442\n"
     ]
    },
    {
     "data": {
      "text/plain": [
       "1.0"
      ]
     },
     "execution_count": 87,
     "metadata": {},
     "output_type": "execute_result"
    }
   ],
   "source": [
    "user_interactions_db_handler.get_cor_of_attributes('test_table_new',\n",
    "                                                   'average_distinct_listings_viewed',\n",
    "                                                   'average_distinct_listings_viewed')"
   ]
  },
  {
   "cell_type": "raw",
   "metadata": {},
   "source": [
    "Now test units for testing basic feature engineering operations"
   ]
  },
  {
   "cell_type": "code",
   "execution_count": 88,
   "metadata": {
    "collapsed": true,
    "jupyter": {
     "outputs_hidden": true
    }
   },
   "outputs": [
    {
     "name": "stdout",
     "output_type": "stream",
     "text": [
      "2019-08-07 21:58:50.140 INFO athena_util.py.111 - Read config from default schema\n",
      "2019-08-07 21:58:50.141 INFO athena_util.py.114 - Schema fetched from default config file:\n"
     ]
    }
   ],
   "source": [
    "user_stage_db_handler= FeatureEngineeringUtilities(db_name= 'buyer_intent_user_stage', \n",
    "                                                   db_path_on_s3 = 's3://datascience-workspace-dev/buyer-intent/user_stage', \n",
    "                                                   logger_name = 'bi_study_report_initial')"
   ]
  },
  {
   "cell_type": "code",
   "execution_count": 89,
   "metadata": {
    "collapsed": true,
    "jupyter": {
     "outputs_hidden": true,
     "source_hidden": true
    }
   },
   "outputs": [
    {
     "name": "stdout",
     "output_type": "stream",
     "text": [
      "2019-08-07 21:58:52.142 INFO athena_util.py.441 - s3://datascience-workspace-dev/buyer-intent/user_stage\n",
      "2019-08-07 21:58:52.198 INFO athena_util.py.462 - 2019-08-07 21:58:52.198926\n",
      "2019-08-07 21:59:00.991 INFO athena_util.py.464 - 2019-08-07 21:59:00.991051\n"
     ]
    }
   ],
   "source": [
    "res = user_stage_db_handler.get_min_of_an_attribute('bius_rdc_biz_data','datetime_mst')"
   ]
  },
  {
   "cell_type": "code",
   "execution_count": 90,
   "metadata": {
    "collapsed": true,
    "jupyter": {
     "outputs_hidden": true,
     "source_hidden": true
    }
   },
   "outputs": [
    {
     "name": "stdout",
     "output_type": "stream",
     "text": [
      "2019-05-31 00:00:00.000\n"
     ]
    }
   ],
   "source": [
    "print(res)"
   ]
  },
  {
   "cell_type": "code",
   "execution_count": 91,
   "metadata": {
    "collapsed": true,
    "jupyter": {
     "outputs_hidden": true
    }
   },
   "outputs": [
    {
     "name": "stdout",
     "output_type": "stream",
     "text": [
      "2019-08-07 21:59:01.102 INFO athena_util.py.441 - s3://datascience-workspace-dev/buyer-intent/user_stage\n",
      "2019-08-07 21:59:01.152 INFO athena_util.py.462 - 2019-08-07 21:59:01.152344\n",
      "2019-08-07 21:59:06.820 INFO athena_util.py.464 - 2019-08-07 21:59:06.820307\n"
     ]
    }
   ],
   "source": [
    "res = user_stage_db_handler.get_max_of_an_attribute('bius_rdc_biz_data','datetime_mst')"
   ]
  },
  {
   "cell_type": "code",
   "execution_count": 92,
   "metadata": {
    "jupyter": {
     "source_hidden": true
    }
   },
   "outputs": [
    {
     "name": "stdout",
     "output_type": "stream",
     "text": [
      "2019-06-17 23:59:59.000\n"
     ]
    }
   ],
   "source": [
    "print(res)"
   ]
  },
  {
   "cell_type": "code",
   "execution_count": 93,
   "metadata": {},
   "outputs": [
    {
     "name": "stdout",
     "output_type": "stream",
     "text": [
      "2019-06-18\n"
     ]
    }
   ],
   "source": [
    "from datetime import datetime, timedelta\n",
    "date_50_days_ago = datetime.now() - timedelta(days=50)\n",
    "date_55_days_ago = datetime.now() - timedelta(days=55)\n",
    "print(str(date_50_days_ago)[:10])"
   ]
  },
  {
   "cell_type": "code",
   "execution_count": 100,
   "metadata": {},
   "outputs": [
    {
     "name": "stdout",
     "output_type": "stream",
     "text": [
      "2019-08-07 22:29:48.772 INFO athena_util.py.441 - s3://datascience-workspace-dev/buyer-intent/user_stage\n",
      "2019-08-07 22:29:48.894 INFO athena_util.py.462 - 2019-08-07 22:29:48.894121\n",
      "2019-08-07 22:29:50.459 INFO athena_util.py.464 - 2019-08-07 22:29:50.459506\n",
      "2019-08-07 22:29:50.526 INFO athena_util.py.441 - s3://datascience-workspace-dev/buyer-intent/user_stage\n",
      "2019-08-07 22:29:50.582 INFO athena_util.py.462 - 2019-08-07 22:29:50.582021\n",
      "2019-08-07 22:55:38.808 INFO athena_util.py.464 - 2019-08-07 22:55:38.808920\n"
     ]
    }
   ],
   "source": [
    "user_stage_db_handler.drop_table('window_bius_rdc_biz_data')\n",
    "res = user_stage_db_handler.creat_table_in_time_window(from_table_name ='bius_rdc_biz_data', \n",
    "                                                       to_table_name='window_bius_rdc_biz_data' , \n",
    "                                                       time_attr_of_from_table = 'datetime_mst', \n",
    "                                                       start_time = str(date_55_days_ago)[:10], \n",
    "                                                       end_time = str(date_50_days_ago)[:10])"
   ]
  },
  {
   "cell_type": "code",
   "execution_count": 101,
   "metadata": {},
   "outputs": [
    {
     "name": "stdout",
     "output_type": "stream",
     "text": [
      "2019-08-07 22:55:38.872 INFO athena_util.py.441 - s3://datascience-workspace-dev/buyer-intent/user_stage\n",
      "2019-08-07 22:55:38.931 INFO athena_util.py.462 - 2019-08-07 22:55:38.931666\n",
      "2019-08-07 22:55:41.511 INFO athena_util.py.464 - 2019-08-07 22:55:41.511800\n"
     ]
    }
   ],
   "source": [
    "res = user_stage_db_handler.get_min_of_an_attribute('window_bius_rdc_biz_data', 'datetime_mst')"
   ]
  },
  {
   "cell_type": "code",
   "execution_count": 102,
   "metadata": {},
   "outputs": [
    {
     "name": "stdout",
     "output_type": "stream",
     "text": [
      "2019-06-14 00:00:00.000\n"
     ]
    }
   ],
   "source": [
    "print(res)"
   ]
  },
  {
   "cell_type": "code",
   "execution_count": 103,
   "metadata": {},
   "outputs": [
    {
     "name": "stdout",
     "output_type": "stream",
     "text": [
      "2019-08-07 22:55:41.643 INFO athena_util.py.441 - s3://datascience-workspace-dev/buyer-intent/user_stage\n",
      "2019-08-07 22:55:41.703 INFO athena_util.py.462 - 2019-08-07 22:55:41.703388\n",
      "2019-08-07 22:55:43.771 INFO athena_util.py.464 - 2019-08-07 22:55:43.771102\n"
     ]
    }
   ],
   "source": [
    "res = user_stage_db_handler.get_max_of_an_attribute('window_bius_rdc_biz_data', 'datetime_mst')"
   ]
  }
 ],
 "metadata": {
  "kernelspec": {
   "display_name": "conda_python3",
   "language": "python",
   "name": "conda_python3"
  },
  "language_info": {
   "codemirror_mode": {
    "name": "ipython",
    "version": 3
   },
   "file_extension": ".py",
   "mimetype": "text/x-python",
   "name": "python",
   "nbconvert_exporter": "python",
   "pygments_lexer": "ipython3",
   "version": "3.6.5"
  }
 },
 "nbformat": 4,
 "nbformat_minor": 4
}
